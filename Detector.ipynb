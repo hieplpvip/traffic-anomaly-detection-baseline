{
 "cells": [
  {
   "cell_type": "code",
   "execution_count": 1,
   "metadata": {},
   "outputs": [],
   "source": [
    "import json\n",
    "import os\n",
    "import pathlib\n",
    "\n",
    "import numpy as np\n",
    "\n",
    "from vid_utils import *"
   ]
  },
  {
   "cell_type": "code",
   "execution_count": 2,
   "metadata": {},
   "outputs": [],
   "source": [
    "repo_path = pathlib.Path(__file__).resolve().parent\n",
    "with open(repo_path / 'result.json', 'r') as f:\n",
    "    D = json.load(f)"
   ]
  },
  {
   "cell_type": "markdown",
   "metadata": {},
   "source": [
    " ## Extract Objects"
   ]
  },
  {
   "cell_type": "code",
   "execution_count": 3,
   "metadata": {},
   "outputs": [],
   "source": [
    "All_Cords = extract_objects(D)"
   ]
  },
  {
   "cell_type": "markdown",
   "metadata": {},
   "source": [
    "## Extract Cases"
   ]
  },
  {
   "cell_type": "code",
   "execution_count": 4,
   "metadata": {},
   "outputs": [],
   "source": [
    "AT = extract_cases(All_Cords)"
   ]
  },
  {
   "cell_type": "markdown",
   "metadata": {},
   "source": [
    "## Detect Change in Camera"
   ]
  },
  {
   "cell_type": "code",
   "execution_count": 6,
   "metadata": {},
   "outputs": [],
   "source": [
    "Base = repo_path / \"processed_images\"\n",
    "if (repo_path / \"change.npy\").exists():\n",
    "    change_cam, loc, Cstat = np.load(os.fspath(repo_path / \"change.npy\"), allow_pickle=True)\n",
    "else:\n",
    "    change_cam, loc, Cstat = change_detect(os.fspath(Base))\n",
    "    np.save(os.fspath(repo_path / \"change.npy\"), [change_cam, loc, Cstat])"
   ]
  },
  {
   "cell_type": "code",
   "execution_count": 7,
   "metadata": {},
   "outputs": [],
   "source": [
    "PT = list(set(AT) - set(change_cam))"
   ]
  },
  {
   "cell_type": "markdown",
   "metadata": {},
   "source": [
    "## Case 1: Extract ROI"
   ]
  },
  {
   "cell_type": "code",
   "execution_count": 8,
   "metadata": {},
   "outputs": [],
   "source": [
    "if (repo_path / \"centers1.npy\").exists():\n",
    "    Centers = np.load(os.fspath(repo_path / \"centers1.npy\"), allow_pickle=True)\n",
    "else:\n",
    "    Centers = extract_roi(PT, All_Cords)\n",
    "    np.save(os.fspath(repo_path / \"centers1.npy\"), Centers)"
   ]
  },
  {
   "cell_type": "code",
   "execution_count": 9,
   "metadata": {},
   "outputs": [
    {
     "data": {
      "text/plain": [
       "56"
      ]
     },
     "execution_count": 9,
     "metadata": {},
     "output_type": "execute_result"
    }
   ],
   "source": [
    "len(Centers)"
   ]
  },
  {
   "cell_type": "markdown",
   "metadata": {},
   "source": [
    "## Case 1: Extract Bounds"
   ]
  },
  {
   "cell_type": "code",
   "execution_count": 10,
   "metadata": {},
   "outputs": [],
   "source": [
    "if (repo_path / \"bounds1.npy\").exists():\n",
    "    Bounds = np.load(os.fspath(repo_path / \"bounds1.npy\"), allow_pickle=True)\n",
    "else:\n",
    "    Bounds = extract_bounds(Centers, PT, All_Cords)\n",
    "    np.save(os.fspath(repo_path / \"bounds1.npy\"), Bounds)"
   ]
  },
  {
   "cell_type": "code",
   "execution_count": 11,
   "metadata": {},
   "outputs": [
    {
     "data": {
      "text/plain": [
       "95"
      ]
     },
     "execution_count": 11,
     "metadata": {},
     "output_type": "execute_result"
    }
   ],
   "source": [
    "len(Bounds)"
   ]
  },
  {
   "cell_type": "markdown",
   "metadata": {},
   "source": [
    "## Case 1: Backtracking"
   ]
  },
  {
   "cell_type": "code",
   "execution_count": 12,
   "metadata": {},
   "outputs": [],
   "source": [
    "Base = repo_path / \"ori_images\"\n",
    "\n",
    "if (repo_path / \"result1.npy\").exists():\n",
    "    Times, Stat = np.load(os.fspath(repo_path / \"result1.npy\"), allow_pickle=True)\n",
    "else:\n",
    "    Times, Stat = backtrack(Bounds, PT, os.fspath(Base))\n",
    "    np.save(os.fspath(repo_path / \"result1.npy\"), [Times, Stat])"
   ]
  },
  {
   "cell_type": "markdown",
   "metadata": {},
   "source": [
    "## Case 2: Extract ROI "
   ]
  },
  {
   "cell_type": "code",
   "execution_count": 13,
   "metadata": {},
   "outputs": [],
   "source": [
    "if (repo_path / \"centers2.npy\").exists():\n",
    "    Centers2 = np.load(os.fspath(repo_path / \"centers2.npy\"), allow_pickle=True)\n",
    "else:\n",
    "    Centers2 = extract_roi1(change_cam, All_Cords, loc)\n",
    "    np.save(os.fspath(repo_path / \"centers2.npy\"), Centers2)"
   ]
  },
  {
   "cell_type": "markdown",
   "metadata": {},
   "source": [
    "## Case 2: Extract Bounds"
   ]
  },
  {
   "cell_type": "code",
   "execution_count": 14,
   "metadata": {},
   "outputs": [],
   "source": [
    "if (repo_path / \"bounds2.npy\").exists():\n",
    "    Bounds2 = np.load(os.fspath(repo_path / \"bounds2.npy\"), allow_pickle=True)\n",
    "else:\n",
    "    Bounds2 = extract_bounds1(Centers2, change_cam, loc, All_Cords)\n",
    "    np.save(os.fspath(repo_path / \"bounds2.npy\"), Bounds2)"
   ]
  },
  {
   "cell_type": "markdown",
   "metadata": {},
   "source": [
    "## Case 2: Backtracking"
   ]
  },
  {
   "cell_type": "code",
   "execution_count": 15,
   "metadata": {},
   "outputs": [
    {
     "data": {
      "text/plain": [
       "(56, 12)"
      ]
     },
     "execution_count": 15,
     "metadata": {},
     "output_type": "execute_result"
    }
   ],
   "source": [
    "len(Centers),len(Centers2)"
   ]
  },
  {
   "cell_type": "code",
   "execution_count": 16,
   "metadata": {},
   "outputs": [
    {
     "data": {
      "text/plain": [
       "(95, 18)"
      ]
     },
     "execution_count": 16,
     "metadata": {},
     "output_type": "execute_result"
    }
   ],
   "source": [
    "len(Bounds),len(Bounds2)"
   ]
  },
  {
   "cell_type": "code",
   "execution_count": 17,
   "metadata": {},
   "outputs": [
    {
     "name": "stdout",
     "output_type": "stream",
     "text": [
      "0\n",
      "1\n",
      "2\n",
      "3\n",
      "4\n",
      "5\n",
      "6\n",
      "7\n",
      "8\n",
      "9\n",
      "10\n",
      "11\n",
      "12\n",
      "13\n",
      "14\n",
      "15\n",
      "16\n",
      "17\n"
     ]
    }
   ],
   "source": [
    "Base = repo_path / \"ori_images\"\n",
    "\n",
    "if (repo_path / \"result2.npy\").exists():\n",
    "    Times2, Stat2 = np.load(os.fspath(repo_path / \"result2.npy\"), allow_pickle=True)\n",
    "else:\n",
    "    Times2, Stat2 = backtrack1(Bounds2, os.fspath(Base))\n",
    "    np.save(os.fspath(repo_path / \"result2.npy\"), [Times2, Stat2])"
   ]
  },
  {
   "cell_type": "code",
   "execution_count": 18,
   "metadata": {},
   "outputs": [],
   "source": [
    "Times = {key:val for key, val in Times.items() if val != 999}\n",
    "Times = {key:val for key, val in Times.items() if val >= 40}\n",
    "\n",
    "Times2 = {key:val for key, val in Times2.items() if val != 999}\n",
    "Times2 = {key:val for key, val in Times2.items() if val >= 40}"
   ]
  },
  {
   "cell_type": "code",
   "execution_count": 23,
   "metadata": {
    "pycharm": {
     "name": "#%%\n"
    }
   },
   "outputs": [],
   "source": [
    "with open(repo_path / \"Result.txt\", \"w\") as file1:\n",
    "    for x in Times:\n",
    "        file1.write('{0:2d} {1:3d} {2:1d}'.format(x, int(Times[x]), 1))\n",
    "        file1.write(\"\\n\")\n",
    "\n",
    "    for x in Times2:\n",
    "        file1.write('{0:2d} {1:3d} {2:1d}'.format(x, int(Times2[x]), 1))\n",
    "        file1.write(\"\\n\")"
   ]
  }
 ],
 "metadata": {
  "kernelspec": {
   "display_name": "Python 3",
   "language": "python",
   "name": "python3"
  },
  "language_info": {
   "codemirror_mode": {
    "name": "ipython",
    "version": 3
   },
   "file_extension": ".py",
   "mimetype": "text/x-python",
   "name": "python",
   "nbconvert_exporter": "python",
   "pygments_lexer": "ipython3",
   "version": "3.8.10"
  }
 },
 "nbformat": 4,
 "nbformat_minor": 2
}