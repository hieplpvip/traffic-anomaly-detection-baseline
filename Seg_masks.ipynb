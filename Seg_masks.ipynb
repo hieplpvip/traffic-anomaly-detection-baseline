{
 "cells": [
  {
   "cell_type": "code",
   "execution_count": null,
   "metadata": {},
   "outputs": [],
   "source": [
    "import concurrent.futures\n",
    "import json\n",
    "import pathlib\n",
    "import time\n",
    "from typing import Dict\n",
    "\n",
    "import tqdm"
   ]
  },
  {
   "cell_type": "code",
   "execution_count": null,
   "metadata": {},
   "outputs": [],
   "source": [
    "def seg_masks(frame: Dict) -> None:\n",
    "    filename = pathlib.Path(frame['filename'])\n",
    "    mask_txt = repo_path / \"Masks\" / filename.parent.relative_to(repo_path / \"ori_images\")\n",
    "    mask_txt.parent.mkdir(parents=True, exist_ok=True)\n",
    "    with open(mask_txt.with_suffix(\".txt\"), \"a\") as file1:\n",
    "        for bound in frame['objects']:\n",
    "            if bound['name'] in names:\n",
    "                # Read the frame number of the filename that is before the underscore.\n",
    "                frame_n = filename.stem.split(\"_\")[0]\n",
    "                a = -1\n",
    "                b = bound['relative_coordinates']['center_x'] * 800\n",
    "                c = bound['relative_coordinates']['center_y'] * 410\n",
    "                d = bound['relative_coordinates']['width'] * 800\n",
    "                e = bound['relative_coordinates']['height'] * 410\n",
    "                f = bound['confidence']\n",
    "                g = -1\n",
    "                h = -1\n",
    "                j = -1\n",
    "                line = [frame_n, a, b, c, d, e, f, g, h, j]\n",
    "                for l in line:\n",
    "                    file1.write(str(l) + \",\")\n",
    "                file1.write(\"\\n\")"
   ]
  },
  {
   "cell_type": "code",
   "execution_count": null,
   "metadata": {
    "pycharm": {
     "name": "#%%\n"
    }
   },
   "outputs": [],
   "source": [
    "start_time = time.perf_counter()\n",
    "repo_path = pathlib.Path(__file__).resolve().parent\n",
    "with open(repo_path / 'Masks' / 'part1.json', 'r') as f:\n",
    "    D = json.load(f)\n",
    "\n",
    "names = (\"car\", \"bus\", \"truck\")\n",
    "\n",
    "with concurrent.futures.ThreadPoolExecutor() as t_exec:\n",
    "    for frame in tqdm.tqdm(D):\n",
    "        t_exec.submit(seg_masks, frame)\n",
    "\n",
    "end_time = time.perf_counter()\n",
    "res = time.strftime(\"%Hh:%Mm:%Ss\", time.gmtime(end_time - start_time))\n",
    "print(f\"Finished in {res}\")"
   ]
  }
 ],
 "metadata": {
  "kernelspec": {
   "display_name": "Python 3",
   "language": "python",
   "name": "python3"
  },
  "language_info": {
   "codemirror_mode": {
    "name": "ipython",
    "version": 3
   },
   "file_extension": ".py",
   "mimetype": "text/x-python",
   "name": "python",
   "nbconvert_exporter": "python",
   "pygments_lexer": "ipython3",
   "version": "3.8.10"
  }
 },
 "nbformat": 4,
 "nbformat_minor": 2
}