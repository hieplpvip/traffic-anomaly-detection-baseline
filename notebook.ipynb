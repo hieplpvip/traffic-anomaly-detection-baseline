{
 "cells": [
  {
   "cell_type": "markdown",
   "metadata": {},
   "source": [
    "# Install decord"
   ]
  },
  {
   "cell_type": "code",
   "execution_count": 1,
   "metadata": {},
   "outputs": [],
   "source": [
    "#!sudo add-apt-repository -y ppa:jonathonf/ffmpeg-4\n",
    "#!sudo apt update\n",
    "#!sudo apt install -y build-essential python3-dev python3-setuptools make cmake\n",
    "#!sudo apt install -y ffmpeg libavcodec-dev libavfilter-dev libavformat-dev libavutil-dev"
   ]
  },
  {
   "cell_type": "code",
   "execution_count": 2,
   "metadata": {},
   "outputs": [],
   "source": [
    "#!git clone --recursive https://github.com/dmlc/decord"
   ]
  },
  {
   "cell_type": "code",
   "execution_count": 3,
   "metadata": {},
   "outputs": [],
   "source": [
    "#%cd decord\n",
    "#!mkdir build\n",
    "#%cd build\n",
    "#!cmake .. -DUSE_CUDA=ON -DCMAKE_BUILD_TYPE=Release\n",
    "#!make"
   ]
  },
  {
   "cell_type": "code",
   "execution_count": 4,
   "metadata": {},
   "outputs": [],
   "source": [
    "#%cd ../python\n",
    "#!python setup.py install"
   ]
  },
  {
   "cell_type": "code",
   "execution_count": 5,
   "metadata": {},
   "outputs": [],
   "source": [
    "#%cd ../../"
   ]
  },
  {
   "cell_type": "markdown",
   "metadata": {},
   "source": [
    "# Install darknet"
   ]
  },
  {
   "cell_type": "code",
   "execution_count": 6,
   "metadata": {},
   "outputs": [],
   "source": [
    "#!git clone https://github.com/AlexeyAB/darknet"
   ]
  },
  {
   "cell_type": "code",
   "execution_count": 7,
   "metadata": {},
   "outputs": [],
   "source": [
    "#%cd darknet\n",
    "#!sed -i 's/OPENCV=0/OPENCV=1/' Makefile\n",
    "#!sed -i 's/GPU=0/GPU=1/' Makefile\n",
    "#!sed -i 's/CUDNN=0/CUDNN=1/' Makefile\n",
    "#!sed -i 's/CUDNN_HALF=0/CUDNN_HALF=1/' Makefile"
   ]
  },
  {
   "cell_type": "code",
   "execution_count": 8,
   "metadata": {},
   "outputs": [],
   "source": [
    "#!make"
   ]
  },
  {
   "cell_type": "code",
   "execution_count": 9,
   "metadata": {},
   "outputs": [],
   "source": [
    "#!wget https://github.com/AlexeyAB/darknet/releases/download/darknet_yolo_v3_optimal/yolov3.weights"
   ]
  },
  {
   "cell_type": "code",
   "execution_count": 10,
   "metadata": {},
   "outputs": [],
   "source": [
    "#%cd ../"
   ]
  },
  {
   "cell_type": "markdown",
   "metadata": {
    "id": "4NnOXpmDpc7I"
   },
   "source": [
    "## Background Modelling"
   ]
  },
  {
   "cell_type": "code",
   "execution_count": 11,
   "metadata": {
    "colab": {
     "base_uri": "https://localhost:8080/"
    },
    "id": "U39O71wRpDu1",
    "outputId": "2e74077e-7e21-46bd-cb5f-8821b7aa24e9"
   },
   "outputs": [
    {
     "name": "stdout",
     "output_type": "stream",
     "text": [
      "100%|█████████████████████████████████████████| 100/100 [33:23<00:00, 20.04s/it]\n",
      "Finished in 00h:33m:24s\n",
      "CPU times: user 28.4 s, sys: 14 s, total: 42.3 s\n",
      "Wall time: 33min 24s\n"
     ]
    }
   ],
   "source": [
    "%time !python extract_frames.py --root ~/aicity-data/aic19-track3-test-data --freq 100"
   ]
  },
  {
   "cell_type": "code",
   "execution_count": 12,
   "metadata": {
    "colab": {
     "base_uri": "https://localhost:8080/"
    },
    "id": "eswRr3tipE7p",
    "outputId": "f77a7108-5824-4468-a0a0-5324fb8bc99b"
   },
   "outputs": [
    {
     "name": "stdout",
     "output_type": "stream",
     "text": [
      "  0%|                                                   | 0/100 [00:00<?, ?it/s]  1\n",
      "  1%|▍                                          | 1/100 [00:02<03:42,  2.24s/it]  2\n",
      "  2%|▊                                          | 2/100 [00:04<03:20,  2.04s/it]  3\n",
      "  3%|█▎                                         | 3/100 [00:06<03:28,  2.15s/it]  4\n",
      "  4%|█▋                                         | 4/100 [00:08<03:24,  2.13s/it]  5\n",
      "  5%|██▏                                        | 5/100 [00:10<03:23,  2.14s/it]  6\n",
      "  6%|██▌                                        | 6/100 [00:12<03:17,  2.10s/it]  7\n",
      "  7%|███                                        | 7/100 [00:14<03:18,  2.14s/it]  8\n",
      "  8%|███▍                                       | 8/100 [00:17<03:19,  2.17s/it]  9\n",
      "  9%|███▊                                       | 9/100 [00:19<03:20,  2.20s/it]  10\n",
      " 10%|████▏                                     | 10/100 [00:21<03:21,  2.23s/it]  11\n",
      " 11%|████▌                                     | 11/100 [00:23<03:16,  2.21s/it]  12\n",
      " 12%|█████                                     | 12/100 [00:25<03:09,  2.15s/it]  13\n",
      " 13%|█████▍                                    | 13/100 [00:27<03:01,  2.08s/it]  14\n",
      " 14%|█████▉                                    | 14/100 [00:29<02:57,  2.07s/it]  15\n",
      " 15%|██████▎                                   | 15/100 [00:32<02:57,  2.09s/it]  16\n",
      " 16%|██████▋                                   | 16/100 [00:34<03:08,  2.25s/it]  17\n",
      " 17%|███████▏                                  | 17/100 [00:37<03:14,  2.34s/it]  18\n",
      " 18%|███████▌                                  | 18/100 [00:39<03:22,  2.47s/it]  19\n",
      " 19%|███████▉                                  | 19/100 [00:41<03:07,  2.31s/it]  20\n",
      " 20%|████████▍                                 | 20/100 [00:44<03:06,  2.33s/it]  21\n",
      " 21%|████████▊                                 | 21/100 [00:46<03:03,  2.32s/it]  22\n",
      " 22%|█████████▏                                | 22/100 [00:48<02:54,  2.24s/it]  23\n",
      " 23%|█████████▋                                | 23/100 [00:50<02:52,  2.25s/it]  24\n",
      " 24%|██████████                                | 24/100 [00:53<02:50,  2.25s/it]  25\n",
      " 25%|██████████▌                               | 25/100 [00:55<02:42,  2.17s/it]  26\n",
      " 26%|██████████▉                               | 26/100 [00:57<02:39,  2.15s/it]  27\n",
      " 27%|███████████▎                              | 27/100 [00:59<02:39,  2.18s/it]  28\n",
      " 28%|███████████▊                              | 28/100 [01:01<02:36,  2.18s/it]  29\n",
      " 29%|████████████▏                             | 29/100 [01:04<02:39,  2.24s/it]  30\n",
      " 30%|████████████▌                             | 30/100 [01:06<02:31,  2.17s/it]  31\n",
      " 31%|█████████████                             | 31/100 [01:08<02:27,  2.14s/it]  32\n",
      " 32%|█████████████▍                            | 32/100 [01:10<02:29,  2.20s/it]  33\n",
      " 33%|█████████████▊                            | 33/100 [01:12<02:28,  2.21s/it]  34\n",
      " 34%|██████████████▎                           | 34/100 [01:14<02:22,  2.16s/it]  35\n",
      " 35%|██████████████▋                           | 35/100 [01:16<02:18,  2.13s/it]  36\n",
      " 36%|███████████████                           | 36/100 [01:18<02:10,  2.04s/it]  37\n",
      " 37%|███████████████▌                          | 37/100 [01:20<02:09,  2.05s/it]  38\n",
      " 38%|███████████████▉                          | 38/100 [01:22<02:11,  2.12s/it]  39\n",
      " 39%|████████████████▍                         | 39/100 [01:24<02:05,  2.06s/it]  40\n",
      " 40%|████████████████▊                         | 40/100 [01:27<02:08,  2.14s/it]  41\n",
      " 41%|█████████████████▏                        | 41/100 [01:29<02:09,  2.20s/it]  42\n",
      " 42%|█████████████████▋                        | 42/100 [01:31<02:04,  2.15s/it]  43\n",
      " 43%|██████████████████                        | 43/100 [01:33<02:04,  2.18s/it]  44\n",
      " 44%|██████████████████▍                       | 44/100 [01:35<01:59,  2.13s/it]  45\n",
      " 45%|██████████████████▉                       | 45/100 [01:38<01:58,  2.16s/it]  46\n",
      " 46%|███████████████████▎                      | 46/100 [01:39<01:52,  2.08s/it]  47\n",
      " 47%|███████████████████▋                      | 47/100 [01:42<01:56,  2.19s/it]  48\n",
      " 48%|████████████████████▏                     | 48/100 [01:44<01:52,  2.15s/it]  49\n",
      " 49%|████████████████████▌                     | 49/100 [01:46<01:47,  2.11s/it]  50\n",
      " 50%|█████████████████████                     | 50/100 [01:48<01:45,  2.10s/it]  51\n",
      " 51%|█████████████████████▍                    | 51/100 [01:50<01:45,  2.15s/it]  52\n",
      " 52%|█████████████████████▊                    | 52/100 [01:52<01:41,  2.12s/it]  53\n",
      " 53%|██████████████████████▎                   | 53/100 [01:55<01:40,  2.13s/it]  54\n",
      " 54%|██████████████████████▋                   | 54/100 [01:57<01:38,  2.13s/it]  55\n",
      " 55%|███████████████████████                   | 55/100 [01:59<01:40,  2.23s/it]  56\n",
      " 56%|███████████████████████▌                  | 56/100 [02:01<01:37,  2.22s/it]  57\n",
      " 57%|███████████████████████▉                  | 57/100 [02:03<01:32,  2.15s/it]  58\n",
      " 58%|████████████████████████▎                 | 58/100 [02:05<01:29,  2.13s/it]  59\n",
      " 59%|████████████████████████▊                 | 59/100 [02:07<01:26,  2.10s/it]  60\n",
      " 60%|█████████████████████████▏                | 60/100 [02:10<01:25,  2.13s/it]  61\n",
      " 61%|█████████████████████████▌                | 61/100 [02:12<01:22,  2.12s/it]  62\n",
      " 62%|██████████████████████████                | 62/100 [02:14<01:16,  2.02s/it]  63\n",
      " 63%|██████████████████████████▍               | 63/100 [02:15<01:13,  1.99s/it]  64\n",
      " 64%|██████████████████████████▉               | 64/100 [02:17<01:12,  2.00s/it]  65\n",
      " 65%|███████████████████████████▎              | 65/100 [02:20<01:12,  2.08s/it]  66\n",
      " 66%|███████████████████████████▋              | 66/100 [02:22<01:09,  2.05s/it]  67\n",
      " 67%|████████████████████████████▏             | 67/100 [02:24<01:08,  2.08s/it]  68\n",
      " 68%|████████████████████████████▌             | 68/100 [02:26<01:07,  2.10s/it]  69\n",
      " 69%|████████████████████████████▉             | 69/100 [02:28<01:06,  2.14s/it]  70\n",
      " 70%|█████████████████████████████▍            | 70/100 [02:30<01:03,  2.13s/it]  71\n",
      " 71%|█████████████████████████████▊            | 71/100 [02:33<01:01,  2.13s/it]  72\n",
      " 72%|██████████████████████████████▏           | 72/100 [02:35<01:00,  2.15s/it]  73\n",
      " 73%|██████████████████████████████▋           | 73/100 [02:37<00:56,  2.11s/it]  74\n",
      " 74%|███████████████████████████████           | 74/100 [02:39<00:53,  2.06s/it]  75\n",
      " 75%|███████████████████████████████▌          | 75/100 [02:41<00:55,  2.21s/it]  76\n",
      " 76%|███████████████████████████████▉          | 76/100 [02:43<00:51,  2.16s/it]  77\n",
      " 77%|████████████████████████████████▎         | 77/100 [02:45<00:47,  2.08s/it]  78\n",
      " 78%|████████████████████████████████▊         | 78/100 [02:48<00:48,  2.20s/it]  79\n",
      " 79%|█████████████████████████████████▏        | 79/100 [02:50<00:44,  2.11s/it]  80\n",
      " 80%|█████████████████████████████████▌        | 80/100 [02:52<00:42,  2.10s/it]  81\n",
      " 81%|██████████████████████████████████        | 81/100 [02:54<00:39,  2.07s/it]  82\n",
      " 82%|██████████████████████████████████▍       | 82/100 [02:56<00:38,  2.16s/it]  83\n",
      " 83%|██████████████████████████████████▊       | 83/100 [02:58<00:37,  2.18s/it]  84\n",
      " 84%|███████████████████████████████████▎      | 84/100 [03:00<00:34,  2.18s/it]  85\n",
      " 85%|███████████████████████████████████▋      | 85/100 [03:03<00:34,  2.27s/it]  86\n",
      " 86%|████████████████████████████████████      | 86/100 [03:05<00:32,  2.33s/it]  87\n",
      " 87%|████████████████████████████████████▌     | 87/100 [03:08<00:29,  2.28s/it]  88\n",
      " 88%|████████████████████████████████████▉     | 88/100 [03:10<00:27,  2.30s/it]  89\n",
      " 89%|█████████████████████████████████████▍    | 89/100 [03:12<00:24,  2.27s/it]  90\n",
      " 90%|█████████████████████████████████████▊    | 90/100 [03:14<00:22,  2.26s/it]  91\n",
      " 91%|██████████████████████████████████████▏   | 91/100 [03:17<00:20,  2.28s/it]  92\n",
      " 92%|██████████████████████████████████████▋   | 92/100 [03:19<00:17,  2.24s/it]  93\n",
      " 93%|███████████████████████████████████████   | 93/100 [03:21<00:15,  2.20s/it]  94\n",
      " 94%|███████████████████████████████████████▍  | 94/100 [03:23<00:12,  2.11s/it]  95\n",
      " 95%|███████████████████████████████████████▉  | 95/100 [03:25<00:10,  2.02s/it]  96\n",
      " 96%|████████████████████████████████████████▎ | 96/100 [03:27<00:08,  2.03s/it]  97\n",
      " 97%|████████████████████████████████████████▋ | 97/100 [03:29<00:06,  2.11s/it]  98\n",
      " 98%|█████████████████████████████████████████▏| 98/100 [03:31<00:04,  2.13s/it]  99\n",
      " 99%|█████████████████████████████████████████▌| 99/100 [03:33<00:02,  2.05s/it]  100\n",
      "100%|█████████████████████████████████████████| 100/100 [03:35<00:00,  2.16s/it]\n",
      "Finished in 00h:03m:35s\n",
      "CPU times: user 2.96 s, sys: 1.6 s, total: 4.56 s\n",
      "Wall time: 3min 36s\n"
     ]
    }
   ],
   "source": [
    "%time !python extract_processed.py"
   ]
  },
  {
   "cell_type": "code",
   "execution_count": 13,
   "metadata": {
    "colab": {
     "base_uri": "https://localhost:8080/"
    },
    "id": "zoMrz6ccpi9c",
    "outputId": "8f66f0b8-15f1-4c37-f2ae-327b7950e8e3"
   },
   "outputs": [
    {
     "name": "stdout",
     "output_type": "stream",
     "text": [
      "/home/hieple/aicity/baseline/darknet\n"
     ]
    }
   ],
   "source": [
    "%cd darknet"
   ]
  },
  {
   "cell_type": "code",
   "execution_count": 14,
   "metadata": {
    "colab": {
     "base_uri": "https://localhost:8080/"
    },
    "id": "D4ARO7gUpRGo",
    "outputId": "0bca1093-ce9a-4d66-e98d-c266f5d3e31a"
   },
   "outputs": [
    {
     "name": "stdout",
     "output_type": "stream",
     "text": [
      " CUDA-version: 11020 (11060), cuDNN: 8.1.1, CUDNN_HALF=1, GPU count: 1  \n",
      " OpenCV version: 4.2.0\n",
      " 0 : compute_capability = 860, cudnn_half = 1, GPU: NVIDIA GeForce RTX 3090 \n",
      "   layer   filters  size/strd(dil)      input                output\n",
      "   0 conv     32       3 x 3/ 1    416 x 416 x   3 ->  416 x 416 x  32 0.299 BF\n",
      "   1 conv     64       3 x 3/ 2    416 x 416 x  32 ->  208 x 208 x  64 1.595 BF\n",
      "   2 conv     32       1 x 1/ 1    208 x 208 x  64 ->  208 x 208 x  32 0.177 BF\n",
      "   3 conv     64       3 x 3/ 1    208 x 208 x  32 ->  208 x 208 x  64 1.595 BF\n",
      "   4 Shortcut Layer: 1,  wt = 0, wn = 0, outputs: 208 x 208 x  64 0.003 BF\n",
      "   5 conv    128       3 x 3/ 2    208 x 208 x  64 ->  104 x 104 x 128 1.595 BF\n",
      "   6 conv     64       1 x 1/ 1    104 x 104 x 128 ->  104 x 104 x  64 0.177 BF\n",
      "   7 conv    128       3 x 3/ 1    104 x 104 x  64 ->  104 x 104 x 128 1.595 BF\n",
      "   8 Shortcut Layer: 5,  wt = 0, wn = 0, outputs: 104 x 104 x 128 0.001 BF\n",
      "   9 conv     64       1 x 1/ 1    104 x 104 x 128 ->  104 x 104 x  64 0.177 BF\n",
      "  10 conv    128       3 x 3/ 1    104 x 104 x  64 ->  104 x 104 x 128 1.595 BF\n",
      "  11 Shortcut Layer: 8,  wt = 0, wn = 0, outputs: 104 x 104 x 128 0.001 BF\n",
      "  12 conv    256       3 x 3/ 2    104 x 104 x 128 ->   52 x  52 x 256 1.595 BF\n",
      "  13 conv    128       1 x 1/ 1     52 x  52 x 256 ->   52 x  52 x 128 0.177 BF\n",
      "  14 conv    256       3 x 3/ 1     52 x  52 x 128 ->   52 x  52 x 256 1.595 BF\n",
      "  15 Shortcut Layer: 12,  wt = 0, wn = 0, outputs:  52 x  52 x 256 0.001 BF\n",
      "  16 conv    128       1 x 1/ 1     52 x  52 x 256 ->   52 x  52 x 128 0.177 BF\n",
      "  17 conv    256       3 x 3/ 1     52 x  52 x 128 ->   52 x  52 x 256 1.595 BF\n",
      "  18 Shortcut Layer: 15,  wt = 0, wn = 0, outputs:  52 x  52 x 256 0.001 BF\n",
      "  19 conv    128       1 x 1/ 1     52 x  52 x 256 ->   52 x  52 x 128 0.177 BF\n",
      "  20 conv    256       3 x 3/ 1     52 x  52 x 128 ->   52 x  52 x 256 1.595 BF\n",
      "  21 Shortcut Layer: 18,  wt = 0, wn = 0, outputs:  52 x  52 x 256 0.001 BF\n",
      "  22 conv    128       1 x 1/ 1     52 x  52 x 256 ->   52 x  52 x 128 0.177 BF\n",
      "  23 conv    256       3 x 3/ 1     52 x  52 x 128 ->   52 x  52 x 256 1.595 BF\n",
      "  24 Shortcut Layer: 21,  wt = 0, wn = 0, outputs:  52 x  52 x 256 0.001 BF\n",
      "  25 conv    128       1 x 1/ 1     52 x  52 x 256 ->   52 x  52 x 128 0.177 BF\n",
      "  26 conv    256       3 x 3/ 1     52 x  52 x 128 ->   52 x  52 x 256 1.595 BF\n",
      "  27 Shortcut Layer: 24,  wt = 0, wn = 0, outputs:  52 x  52 x 256 0.001 BF\n",
      "  28 conv    128       1 x 1/ 1     52 x  52 x 256 ->   52 x  52 x 128 0.177 BF\n",
      "  29 conv    256       3 x 3/ 1     52 x  52 x 128 ->   52 x  52 x 256 1.595 BF\n",
      "  30 Shortcut Layer: 27,  wt = 0, wn = 0, outputs:  52 x  52 x 256 0.001 BF\n",
      "  31 conv    128       1 x 1/ 1     52 x  52 x 256 ->   52 x  52 x 128 0.177 BF\n",
      "  32 conv    256       3 x 3/ 1     52 x  52 x 128 ->   52 x  52 x 256 1.595 BF\n",
      "  33 Shortcut Layer: 30,  wt = 0, wn = 0, outputs:  52 x  52 x 256 0.001 BF\n",
      "  34 conv    128       1 x 1/ 1     52 x  52 x 256 ->   52 x  52 x 128 0.177 BF\n",
      "  35 conv    256       3 x 3/ 1     52 x  52 x 128 ->   52 x  52 x 256 1.595 BF\n",
      "  36 Shortcut Layer: 33,  wt = 0, wn = 0, outputs:  52 x  52 x 256 0.001 BF\n",
      "  37 conv    512       3 x 3/ 2     52 x  52 x 256 ->   26 x  26 x 512 1.595 BF\n",
      "  38 conv    256       1 x 1/ 1     26 x  26 x 512 ->   26 x  26 x 256 0.177 BF\n",
      "  39 conv    512       3 x 3/ 1     26 x  26 x 256 ->   26 x  26 x 512 1.595 BF\n",
      "  40 Shortcut Layer: 37,  wt = 0, wn = 0, outputs:  26 x  26 x 512 0.000 BF\n",
      "  41 conv    256       1 x 1/ 1     26 x  26 x 512 ->   26 x  26 x 256 0.177 BF\n",
      "  42 conv    512       3 x 3/ 1     26 x  26 x 256 ->   26 x  26 x 512 1.595 BF\n",
      "  43 Shortcut Layer: 40,  wt = 0, wn = 0, outputs:  26 x  26 x 512 0.000 BF\n",
      "  44 conv    256       1 x 1/ 1     26 x  26 x 512 ->   26 x  26 x 256 0.177 BF\n",
      "  45 conv    512       3 x 3/ 1     26 x  26 x 256 ->   26 x  26 x 512 1.595 BF\n",
      "  46 Shortcut Layer: 43,  wt = 0, wn = 0, outputs:  26 x  26 x 512 0.000 BF\n",
      "  47 conv    256       1 x 1/ 1     26 x  26 x 512 ->   26 x  26 x 256 0.177 BF\n",
      "  48 conv    512       3 x 3/ 1     26 x  26 x 256 ->   26 x  26 x 512 1.595 BF\n",
      "  49 Shortcut Layer: 46,  wt = 0, wn = 0, outputs:  26 x  26 x 512 0.000 BF\n",
      "  50 conv    256       1 x 1/ 1     26 x  26 x 512 ->   26 x  26 x 256 0.177 BF\n",
      "  51 conv    512       3 x 3/ 1     26 x  26 x 256 ->   26 x  26 x 512 1.595 BF\n",
      "  52 Shortcut Layer: 49,  wt = 0, wn = 0, outputs:  26 x  26 x 512 0.000 BF\n",
      "  53 conv    256       1 x 1/ 1     26 x  26 x 512 ->   26 x  26 x 256 0.177 BF\n",
      "  54 conv    512       3 x 3/ 1     26 x  26 x 256 ->   26 x  26 x 512 1.595 BF\n",
      "  55 Shortcut Layer: 52,  wt = 0, wn = 0, outputs:  26 x  26 x 512 0.000 BF\n",
      "  56 conv    256       1 x 1/ 1     26 x  26 x 512 ->   26 x  26 x 256 0.177 BF\n",
      "  57 conv    512       3 x 3/ 1     26 x  26 x 256 ->   26 x  26 x 512 1.595 BF\n",
      "  58 Shortcut Layer: 55,  wt = 0, wn = 0, outputs:  26 x  26 x 512 0.000 BF\n",
      "  59 conv    256       1 x 1/ 1     26 x  26 x 512 ->   26 x  26 x 256 0.177 BF\n",
      "  60 conv    512       3 x 3/ 1     26 x  26 x 256 ->   26 x  26 x 512 1.595 BF\n",
      "  61 Shortcut Layer: 58,  wt = 0, wn = 0, outputs:  26 x  26 x 512 0.000 BF\n",
      "  62 conv   1024       3 x 3/ 2     26 x  26 x 512 ->   13 x  13 x1024 1.595 BF\n",
      "  63 conv    512       1 x 1/ 1     13 x  13 x1024 ->   13 x  13 x 512 0.177 BF\n",
      "  64 conv   1024       3 x 3/ 1     13 x  13 x 512 ->   13 x  13 x1024 1.595 BF\n",
      "  65 Shortcut Layer: 62,  wt = 0, wn = 0, outputs:  13 x  13 x1024 0.000 BF\n",
      "  66 conv    512       1 x 1/ 1     13 x  13 x1024 ->   13 x  13 x 512 0.177 BF\n",
      "  67 conv   1024       3 x 3/ 1     13 x  13 x 512 ->   13 x  13 x1024 1.595 BF\n",
      "  68 Shortcut Layer: 65,  wt = 0, wn = 0, outputs:  13 x  13 x1024 0.000 BF\n",
      "  69 conv    512       1 x 1/ 1     13 x  13 x1024 ->   13 x  13 x 512 0.177 BF\n",
      "  70 conv   1024       3 x 3/ 1     13 x  13 x 512 ->   13 x  13 x1024 1.595 BF\n",
      "  71 Shortcut Layer: 68,  wt = 0, wn = 0, outputs:  13 x  13 x1024 0.000 BF\n",
      "  72 conv    512       1 x 1/ 1     13 x  13 x1024 ->   13 x  13 x 512 0.177 BF\n",
      "  73 conv   1024       3 x 3/ 1     13 x  13 x 512 ->   13 x  13 x1024 1.595 BF\n",
      "  74 Shortcut Layer: 71,  wt = 0, wn = 0, outputs:  13 x  13 x1024 0.000 BF\n",
      "  75 conv    512       1 x 1/ 1     13 x  13 x1024 ->   13 x  13 x 512 0.177 BF\n",
      "  76 conv   1024       3 x 3/ 1     13 x  13 x 512 ->   13 x  13 x1024 1.595 BF\n",
      "  77 conv    512       1 x 1/ 1     13 x  13 x1024 ->   13 x  13 x 512 0.177 BF\n",
      "  78 conv   1024       3 x 3/ 1     13 x  13 x 512 ->   13 x  13 x1024 1.595 BF\n",
      "  79 conv    512       1 x 1/ 1     13 x  13 x1024 ->   13 x  13 x 512 0.177 BF\n",
      "  80 conv   1024       3 x 3/ 1     13 x  13 x 512 ->   13 x  13 x1024 1.595 BF\n",
      "  81 conv    255       1 x 1/ 1     13 x  13 x1024 ->   13 x  13 x 255 0.088 BF\n",
      "  82 yolo\n",
      "[yolo] params: iou loss: mse (2), iou_norm: 0.75, obj_norm: 1.00, cls_norm: 1.00, delta_norm: 1.00, scale_x_y: 1.00\n",
      "  83 route  79 \t\t                           ->   13 x  13 x 512 \n",
      "  84 conv    256       1 x 1/ 1     13 x  13 x 512 ->   13 x  13 x 256 0.044 BF\n",
      "  85 upsample                 2x    13 x  13 x 256 ->   26 x  26 x 256\n",
      "  86 route  85 61 \t                           ->   26 x  26 x 768 \n",
      "  87 conv    256       1 x 1/ 1     26 x  26 x 768 ->   26 x  26 x 256 0.266 BF\n",
      "  88 conv    512       3 x 3/ 1     26 x  26 x 256 ->   26 x  26 x 512 1.595 BF\n",
      "  89 conv    256       1 x 1/ 1     26 x  26 x 512 ->   26 x  26 x 256 0.177 BF\n",
      "  90 conv    512       3 x 3/ 1     26 x  26 x 256 ->   26 x  26 x 512 1.595 BF\n",
      "  91 conv    256       1 x 1/ 1     26 x  26 x 512 ->   26 x  26 x 256 0.177 BF\n",
      "  92 conv    512       3 x 3/ 1     26 x  26 x 256 ->   26 x  26 x 512 1.595 BF\n",
      "  93 conv    255       1 x 1/ 1     26 x  26 x 512 ->   26 x  26 x 255 0.177 BF\n",
      "  94 yolo\n",
      "[yolo] params: iou loss: mse (2), iou_norm: 0.75, obj_norm: 1.00, cls_norm: 1.00, delta_norm: 1.00, scale_x_y: 1.00\n",
      "  95 route  91 \t\t                           ->   26 x  26 x 256 \n",
      "  96 conv    128       1 x 1/ 1     26 x  26 x 256 ->   26 x  26 x 128 0.044 BF\n",
      "  97 upsample                 2x    26 x  26 x 128 ->   52 x  52 x 128\n",
      "  98 route  97 36 \t                           ->   52 x  52 x 384 \n",
      "  99 conv    128       1 x 1/ 1     52 x  52 x 384 ->   52 x  52 x 128 0.266 BF\n",
      " 100 conv    256       3 x 3/ 1     52 x  52 x 128 ->   52 x  52 x 256 1.595 BF\n",
      " 101 conv    128       1 x 1/ 1     52 x  52 x 256 ->   52 x  52 x 128 0.177 BF\n",
      " 102 conv    256       3 x 3/ 1     52 x  52 x 128 ->   52 x  52 x 256 1.595 BF\n",
      " 103 conv    128       1 x 1/ 1     52 x  52 x 256 ->   52 x  52 x 128 0.177 BF\n",
      " 104 conv    256       3 x 3/ 1     52 x  52 x 128 ->   52 x  52 x 256 1.595 BF\n",
      " 105 conv    255       1 x 1/ 1     52 x  52 x 256 ->   52 x  52 x 255 0.353 BF\n",
      " 106 yolo\n",
      "[yolo] params: iou loss: mse (2), iou_norm: 0.75, obj_norm: 1.00, cls_norm: 1.00, delta_norm: 1.00, scale_x_y: 1.00\n",
      "Total BFLOPS 65.879 \n",
      "avg_outputs = 532444 \n",
      " Allocate additional workspace_size = 22.23 MB \n",
      "Loading weights from yolov3.weights...Done! Loaded 107 layers from weights-file \n",
      "CPU times: user 24.5 s, sys: 11.2 s, total: 35.7 s\n",
      "Wall time: 27min 52s\n"
     ]
    }
   ],
   "source": [
    "%time !./darknet detector test cfg/coco.data cfg/yolov3.cfg yolov3.weights -ext_output -dont_show -out result.json < ../processed_images2.txt -thresh 0.1 > background_output.txt"
   ]
  },
  {
   "cell_type": "code",
   "execution_count": 15,
   "metadata": {},
   "outputs": [],
   "source": [
    "!cp result.json ../result.json"
   ]
  },
  {
   "cell_type": "code",
   "execution_count": 16,
   "metadata": {},
   "outputs": [
    {
     "name": "stdout",
     "output_type": "stream",
     "text": [
      "/home/hieple/aicity/baseline\n"
     ]
    }
   ],
   "source": [
    "%cd .."
   ]
  },
  {
   "cell_type": "markdown",
   "metadata": {
    "id": "zleJe5mSpktz"
   },
   "source": [
    "## Segmentation Maps"
   ]
  },
  {
   "cell_type": "code",
   "execution_count": 25,
   "metadata": {
    "colab": {
     "base_uri": "https://localhost:8080/"
    },
    "id": "F1HucAnRpwXi",
    "outputId": "d38937d3-0dd2-48c2-b957-1239700d5bd6"
   },
   "outputs": [
    {
     "name": "stdout",
     "output_type": "stream",
     "text": [
      "100%|███████████████████████████████████████| 100/100 [1:02:36<00:00, 37.56s/it]\n",
      "Finished in 01h:02m:36s\n",
      "CPU times: user 57.6 s, sys: 24.8 s, total: 1min 22s\n",
      "Wall time: 1h 2min 36s\n"
     ]
    }
   ],
   "source": [
    "%time !python extract_frames.py --root ~/aicity-data/aic19-track3-test-data --freq 10"
   ]
  },
  {
   "cell_type": "code",
   "execution_count": 26,
   "metadata": {
    "colab": {
     "base_uri": "https://localhost:8080/"
    },
    "id": "q-RT3WMUp12a",
    "outputId": "a774c7e7-6a5a-4853-b9a8-dc771752ae9b"
   },
   "outputs": [
    {
     "name": "stdout",
     "output_type": "stream",
     "text": [
      "/home/hieple/aicity/baseline/darknet\n"
     ]
    }
   ],
   "source": [
    "%cd darknet"
   ]
  },
  {
   "cell_type": "code",
   "execution_count": 27,
   "metadata": {
    "colab": {
     "base_uri": "https://localhost:8080/"
    },
    "id": "iM8IU028pR0e",
    "outputId": "ff42193b-191a-43cd-a623-70a722c31ed2"
   },
   "outputs": [
    {
     "name": "stdout",
     "output_type": "stream",
     "text": [
      " CUDA-version: 11020 (11060), cuDNN: 8.1.1, CUDNN_HALF=1, GPU count: 1  \n",
      " OpenCV version: 4.2.0\n",
      " 0 : compute_capability = 860, cudnn_half = 1, GPU: NVIDIA GeForce RTX 3090 \n",
      "   layer   filters  size/strd(dil)      input                output\n",
      "   0 conv     32       3 x 3/ 1    416 x 416 x   3 ->  416 x 416 x  32 0.299 BF\n",
      "   1 conv     64       3 x 3/ 2    416 x 416 x  32 ->  208 x 208 x  64 1.595 BF\n",
      "   2 conv     32       1 x 1/ 1    208 x 208 x  64 ->  208 x 208 x  32 0.177 BF\n",
      "   3 conv     64       3 x 3/ 1    208 x 208 x  32 ->  208 x 208 x  64 1.595 BF\n",
      "   4 Shortcut Layer: 1,  wt = 0, wn = 0, outputs: 208 x 208 x  64 0.003 BF\n",
      "   5 conv    128       3 x 3/ 2    208 x 208 x  64 ->  104 x 104 x 128 1.595 BF\n",
      "   6 conv     64       1 x 1/ 1    104 x 104 x 128 ->  104 x 104 x  64 0.177 BF\n",
      "   7 conv    128       3 x 3/ 1    104 x 104 x  64 ->  104 x 104 x 128 1.595 BF\n",
      "   8 Shortcut Layer: 5,  wt = 0, wn = 0, outputs: 104 x 104 x 128 0.001 BF\n",
      "   9 conv     64       1 x 1/ 1    104 x 104 x 128 ->  104 x 104 x  64 0.177 BF\n",
      "  10 conv    128       3 x 3/ 1    104 x 104 x  64 ->  104 x 104 x 128 1.595 BF\n",
      "  11 Shortcut Layer: 8,  wt = 0, wn = 0, outputs: 104 x 104 x 128 0.001 BF\n",
      "  12 conv    256       3 x 3/ 2    104 x 104 x 128 ->   52 x  52 x 256 1.595 BF\n",
      "  13 conv    128       1 x 1/ 1     52 x  52 x 256 ->   52 x  52 x 128 0.177 BF\n",
      "  14 conv    256       3 x 3/ 1     52 x  52 x 128 ->   52 x  52 x 256 1.595 BF\n",
      "  15 Shortcut Layer: 12,  wt = 0, wn = 0, outputs:  52 x  52 x 256 0.001 BF\n",
      "  16 conv    128       1 x 1/ 1     52 x  52 x 256 ->   52 x  52 x 128 0.177 BF\n",
      "  17 conv    256       3 x 3/ 1     52 x  52 x 128 ->   52 x  52 x 256 1.595 BF\n",
      "  18 Shortcut Layer: 15,  wt = 0, wn = 0, outputs:  52 x  52 x 256 0.001 BF\n",
      "  19 conv    128       1 x 1/ 1     52 x  52 x 256 ->   52 x  52 x 128 0.177 BF\n",
      "  20 conv    256       3 x 3/ 1     52 x  52 x 128 ->   52 x  52 x 256 1.595 BF\n",
      "  21 Shortcut Layer: 18,  wt = 0, wn = 0, outputs:  52 x  52 x 256 0.001 BF\n",
      "  22 conv    128       1 x 1/ 1     52 x  52 x 256 ->   52 x  52 x 128 0.177 BF\n",
      "  23 conv    256       3 x 3/ 1     52 x  52 x 128 ->   52 x  52 x 256 1.595 BF\n",
      "  24 Shortcut Layer: 21,  wt = 0, wn = 0, outputs:  52 x  52 x 256 0.001 BF\n",
      "  25 conv    128       1 x 1/ 1     52 x  52 x 256 ->   52 x  52 x 128 0.177 BF\n",
      "  26 conv    256       3 x 3/ 1     52 x  52 x 128 ->   52 x  52 x 256 1.595 BF\n",
      "  27 Shortcut Layer: 24,  wt = 0, wn = 0, outputs:  52 x  52 x 256 0.001 BF\n",
      "  28 conv    128       1 x 1/ 1     52 x  52 x 256 ->   52 x  52 x 128 0.177 BF\n",
      "  29 conv    256       3 x 3/ 1     52 x  52 x 128 ->   52 x  52 x 256 1.595 BF\n",
      "  30 Shortcut Layer: 27,  wt = 0, wn = 0, outputs:  52 x  52 x 256 0.001 BF\n",
      "  31 conv    128       1 x 1/ 1     52 x  52 x 256 ->   52 x  52 x 128 0.177 BF\n",
      "  32 conv    256       3 x 3/ 1     52 x  52 x 128 ->   52 x  52 x 256 1.595 BF\n",
      "  33 Shortcut Layer: 30,  wt = 0, wn = 0, outputs:  52 x  52 x 256 0.001 BF\n",
      "  34 conv    128       1 x 1/ 1     52 x  52 x 256 ->   52 x  52 x 128 0.177 BF\n",
      "  35 conv    256       3 x 3/ 1     52 x  52 x 128 ->   52 x  52 x 256 1.595 BF\n",
      "  36 Shortcut Layer: 33,  wt = 0, wn = 0, outputs:  52 x  52 x 256 0.001 BF\n",
      "  37 conv    512       3 x 3/ 2     52 x  52 x 256 ->   26 x  26 x 512 1.595 BF\n",
      "  38 conv    256       1 x 1/ 1     26 x  26 x 512 ->   26 x  26 x 256 0.177 BF\n",
      "  39 conv    512       3 x 3/ 1     26 x  26 x 256 ->   26 x  26 x 512 1.595 BF\n",
      "  40 Shortcut Layer: 37,  wt = 0, wn = 0, outputs:  26 x  26 x 512 0.000 BF\n",
      "  41 conv    256       1 x 1/ 1     26 x  26 x 512 ->   26 x  26 x 256 0.177 BF\n",
      "  42 conv    512       3 x 3/ 1     26 x  26 x 256 ->   26 x  26 x 512 1.595 BF\n",
      "  43 Shortcut Layer: 40,  wt = 0, wn = 0, outputs:  26 x  26 x 512 0.000 BF\n",
      "  44 conv    256       1 x 1/ 1     26 x  26 x 512 ->   26 x  26 x 256 0.177 BF\n",
      "  45 conv    512       3 x 3/ 1     26 x  26 x 256 ->   26 x  26 x 512 1.595 BF\n",
      "  46 Shortcut Layer: 43,  wt = 0, wn = 0, outputs:  26 x  26 x 512 0.000 BF\n",
      "  47 conv    256       1 x 1/ 1     26 x  26 x 512 ->   26 x  26 x 256 0.177 BF\n",
      "  48 conv    512       3 x 3/ 1     26 x  26 x 256 ->   26 x  26 x 512 1.595 BF\n",
      "  49 Shortcut Layer: 46,  wt = 0, wn = 0, outputs:  26 x  26 x 512 0.000 BF\n",
      "  50 conv    256       1 x 1/ 1     26 x  26 x 512 ->   26 x  26 x 256 0.177 BF\n",
      "  51 conv    512       3 x 3/ 1     26 x  26 x 256 ->   26 x  26 x 512 1.595 BF\n",
      "  52 Shortcut Layer: 49,  wt = 0, wn = 0, outputs:  26 x  26 x 512 0.000 BF\n",
      "  53 conv    256       1 x 1/ 1     26 x  26 x 512 ->   26 x  26 x 256 0.177 BF\n",
      "  54 conv    512       3 x 3/ 1     26 x  26 x 256 ->   26 x  26 x 512 1.595 BF\n",
      "  55 Shortcut Layer: 52,  wt = 0, wn = 0, outputs:  26 x  26 x 512 0.000 BF\n",
      "  56 conv    256       1 x 1/ 1     26 x  26 x 512 ->   26 x  26 x 256 0.177 BF\n",
      "  57 conv    512       3 x 3/ 1     26 x  26 x 256 ->   26 x  26 x 512 1.595 BF\n",
      "  58 Shortcut Layer: 55,  wt = 0, wn = 0, outputs:  26 x  26 x 512 0.000 BF\n",
      "  59 conv    256       1 x 1/ 1     26 x  26 x 512 ->   26 x  26 x 256 0.177 BF\n",
      "  60 conv    512       3 x 3/ 1     26 x  26 x 256 ->   26 x  26 x 512 1.595 BF\n",
      "  61 Shortcut Layer: 58,  wt = 0, wn = 0, outputs:  26 x  26 x 512 0.000 BF\n",
      "  62 conv   1024       3 x 3/ 2     26 x  26 x 512 ->   13 x  13 x1024 1.595 BF\n",
      "  63 conv    512       1 x 1/ 1     13 x  13 x1024 ->   13 x  13 x 512 0.177 BF\n",
      "  64 conv   1024       3 x 3/ 1     13 x  13 x 512 ->   13 x  13 x1024 1.595 BF\n",
      "  65 Shortcut Layer: 62,  wt = 0, wn = 0, outputs:  13 x  13 x1024 0.000 BF\n",
      "  66 conv    512       1 x 1/ 1     13 x  13 x1024 ->   13 x  13 x 512 0.177 BF\n",
      "  67 conv   1024       3 x 3/ 1     13 x  13 x 512 ->   13 x  13 x1024 1.595 BF\n",
      "  68 Shortcut Layer: 65,  wt = 0, wn = 0, outputs:  13 x  13 x1024 0.000 BF\n",
      "  69 conv    512       1 x 1/ 1     13 x  13 x1024 ->   13 x  13 x 512 0.177 BF\n",
      "  70 conv   1024       3 x 3/ 1     13 x  13 x 512 ->   13 x  13 x1024 1.595 BF\n",
      "  71 Shortcut Layer: 68,  wt = 0, wn = 0, outputs:  13 x  13 x1024 0.000 BF\n",
      "  72 conv    512       1 x 1/ 1     13 x  13 x1024 ->   13 x  13 x 512 0.177 BF\n",
      "  73 conv   1024       3 x 3/ 1     13 x  13 x 512 ->   13 x  13 x1024 1.595 BF\n",
      "  74 Shortcut Layer: 71,  wt = 0, wn = 0, outputs:  13 x  13 x1024 0.000 BF\n",
      "  75 conv    512       1 x 1/ 1     13 x  13 x1024 ->   13 x  13 x 512 0.177 BF\n",
      "  76 conv   1024       3 x 3/ 1     13 x  13 x 512 ->   13 x  13 x1024 1.595 BF\n",
      "  77 conv    512       1 x 1/ 1     13 x  13 x1024 ->   13 x  13 x 512 0.177 BF\n",
      "  78 conv   1024       3 x 3/ 1     13 x  13 x 512 ->   13 x  13 x1024 1.595 BF\n",
      "  79 conv    512       1 x 1/ 1     13 x  13 x1024 ->   13 x  13 x 512 0.177 BF\n",
      "  80 conv   1024       3 x 3/ 1     13 x  13 x 512 ->   13 x  13 x1024 1.595 BF\n",
      "  81 conv    255       1 x 1/ 1     13 x  13 x1024 ->   13 x  13 x 255 0.088 BF\n",
      "  82 yolo\n",
      "[yolo] params: iou loss: mse (2), iou_norm: 0.75, obj_norm: 1.00, cls_norm: 1.00, delta_norm: 1.00, scale_x_y: 1.00\n",
      "  83 route  79 \t\t                           ->   13 x  13 x 512 \n",
      "  84 conv    256       1 x 1/ 1     13 x  13 x 512 ->   13 x  13 x 256 0.044 BF\n",
      "  85 upsample                 2x    13 x  13 x 256 ->   26 x  26 x 256\n",
      "  86 route  85 61 \t                           ->   26 x  26 x 768 \n",
      "  87 conv    256       1 x 1/ 1     26 x  26 x 768 ->   26 x  26 x 256 0.266 BF\n",
      "  88 conv    512       3 x 3/ 1     26 x  26 x 256 ->   26 x  26 x 512 1.595 BF\n",
      "  89 conv    256       1 x 1/ 1     26 x  26 x 512 ->   26 x  26 x 256 0.177 BF\n",
      "  90 conv    512       3 x 3/ 1     26 x  26 x 256 ->   26 x  26 x 512 1.595 BF\n",
      "  91 conv    256       1 x 1/ 1     26 x  26 x 512 ->   26 x  26 x 256 0.177 BF\n",
      "  92 conv    512       3 x 3/ 1     26 x  26 x 256 ->   26 x  26 x 512 1.595 BF\n",
      "  93 conv    255       1 x 1/ 1     26 x  26 x 512 ->   26 x  26 x 255 0.177 BF\n",
      "  94 yolo\n",
      "[yolo] params: iou loss: mse (2), iou_norm: 0.75, obj_norm: 1.00, cls_norm: 1.00, delta_norm: 1.00, scale_x_y: 1.00\n",
      "  95 route  91 \t\t                           ->   26 x  26 x 256 \n",
      "  96 conv    128       1 x 1/ 1     26 x  26 x 256 ->   26 x  26 x 128 0.044 BF\n",
      "  97 upsample                 2x    26 x  26 x 128 ->   52 x  52 x 128\n",
      "  98 route  97 36 \t                           ->   52 x  52 x 384 \n",
      "  99 conv    128       1 x 1/ 1     52 x  52 x 384 ->   52 x  52 x 128 0.266 BF\n",
      " 100 conv    256       3 x 3/ 1     52 x  52 x 128 ->   52 x  52 x 256 1.595 BF\n",
      " 101 conv    128       1 x 1/ 1     52 x  52 x 256 ->   52 x  52 x 128 0.177 BF\n",
      " 102 conv    256       3 x 3/ 1     52 x  52 x 128 ->   52 x  52 x 256 1.595 BF\n",
      " 103 conv    128       1 x 1/ 1     52 x  52 x 256 ->   52 x  52 x 128 0.177 BF\n",
      " 104 conv    256       3 x 3/ 1     52 x  52 x 128 ->   52 x  52 x 256 1.595 BF\n",
      " 105 conv    255       1 x 1/ 1     52 x  52 x 256 ->   52 x  52 x 255 0.353 BF\n",
      " 106 yolo\n",
      "[yolo] params: iou loss: mse (2), iou_norm: 0.75, obj_norm: 1.00, cls_norm: 1.00, delta_norm: 1.00, scale_x_y: 1.00\n",
      "Total BFLOPS 65.879 \n",
      "avg_outputs = 532444 \n",
      " Allocate additional workspace_size = 22.23 MB \n",
      "Loading weights from yolov3.weights...Done! Loaded 107 layers from weights-file \n",
      "CPU times: user 1min 47s, sys: 37.8 s, total: 2min 24s\n",
      "Wall time: 1h 58min 3s\n"
     ]
    }
   ],
   "source": [
    "%time !./darknet detector test cfg/coco.data cfg/yolov3.cfg yolov3.weights -ext_output -dont_show -out part1.json < ../ori_images.txt -thresh 0.1 > seg_output.txt"
   ]
  },
  {
   "cell_type": "code",
   "execution_count": 28,
   "metadata": {
    "id": "j5HhZs1-qlul"
   },
   "outputs": [],
   "source": [
    "!cp part1.json ../Masks/part1.json"
   ]
  },
  {
   "cell_type": "code",
   "execution_count": 29,
   "metadata": {
    "id": "v_QpZAqCquJw"
   },
   "outputs": [
    {
     "name": "stdout",
     "output_type": "stream",
     "text": [
      "/home/hieple/aicity/baseline\n"
     ]
    }
   ],
   "source": [
    "%cd .."
   ]
  },
  {
   "cell_type": "code",
   "execution_count": 31,
   "metadata": {
    "id": "ATUVh4jGqCy2"
   },
   "outputs": [
    {
     "name": "stdout",
     "output_type": "stream",
     "text": [
      "100%|█████████████████████████████████| 267256/267256 [00:37<00:00, 7050.80it/s]\n",
      "Finished in 00h:00m:53s\n",
      "CPU times: user 979 ms, sys: 370 ms, total: 1.35 s\n",
      "Wall time: 58.3 s\n"
     ]
    }
   ],
   "source": [
    "%time !python Seg_masks.py"
   ]
  },
  {
   "cell_type": "code",
   "execution_count": 32,
   "metadata": {
    "id": "ErV_Fx8qqGNp"
   },
   "outputs": [
    {
     "name": "stdout",
     "output_type": "stream",
     "text": [
      "  0%|                                                   | 0/100 [00:00<?, ?it/s]4\n",
      "  1%|▍                                          | 1/100 [00:01<02:47,  1.70s/it]3\n",
      "  2%|▊                                          | 2/100 [00:02<01:58,  1.21s/it]17\n",
      "  3%|█▎                                         | 3/100 [00:03<01:54,  1.18s/it]15\n",
      "  4%|█▋                                         | 4/100 [00:05<02:05,  1.31s/it]19\n",
      "  5%|██▏                                        | 5/100 [00:05<01:43,  1.09s/it]6\n",
      "  6%|██▌                                        | 6/100 [00:07<02:04,  1.32s/it]11\n",
      "  7%|███                                        | 7/100 [00:08<02:00,  1.30s/it]8\n",
      "  8%|███▍                                       | 8/100 [00:09<01:36,  1.05s/it]7\n",
      "  9%|███▊                                       | 9/100 [00:11<02:07,  1.40s/it]23\n",
      " 10%|████▏                                     | 10/100 [00:12<01:48,  1.21s/it]2\n",
      " 11%|████▌                                     | 11/100 [00:15<02:27,  1.66s/it]14\n",
      " 12%|█████                                     | 12/100 [00:16<02:09,  1.47s/it]11\n",
      " 13%|█████▍                                    | 13/100 [00:17<02:03,  1.42s/it]11\n",
      " 14%|█████▉                                    | 14/100 [00:19<02:21,  1.65s/it]18\n",
      " 15%|██████▎                                   | 15/100 [00:21<02:32,  1.80s/it]17\n",
      " 16%|██████▋                                   | 16/100 [00:22<01:58,  1.41s/it]3\n",
      " 17%|███████▏                                  | 17/100 [00:23<01:48,  1.31s/it]12\n",
      " 18%|███████▌                                  | 18/100 [00:23<01:26,  1.06s/it]4\n",
      " 19%|███████▉                                  | 19/100 [00:25<01:42,  1.26s/it]18\n",
      " 20%|████████▍                                 | 20/100 [00:26<01:26,  1.08s/it]19\n",
      " 21%|████████▊                                 | 21/100 [00:26<01:14,  1.07it/s]9\n",
      " 22%|█████████▏                                | 22/100 [00:28<01:25,  1.10s/it]6\n",
      " 23%|█████████▋                                | 23/100 [00:29<01:23,  1.08s/it]16\n",
      " 24%|██████████                                | 24/100 [00:29<01:12,  1.05it/s]15\n",
      " 25%|██████████▌                               | 25/100 [00:31<01:17,  1.03s/it]9\n",
      " 26%|██████████▉                               | 26/100 [00:32<01:18,  1.06s/it]11\n",
      " 27%|███████████▎                              | 27/100 [00:33<01:14,  1.02s/it]8\n",
      " 28%|███████████▊                              | 28/100 [00:34<01:12,  1.00s/it]10\n",
      " 29%|████████████▏                             | 29/100 [00:35<01:20,  1.13s/it]6\n",
      " 30%|████████████▌                             | 30/100 [00:36<01:15,  1.07s/it]6\n",
      " 31%|█████████████                             | 31/100 [00:37<01:06,  1.04it/s]8\n",
      " 32%|█████████████▍                            | 32/100 [00:38<01:02,  1.09it/s]12\n",
      " 33%|█████████████▊                            | 33/100 [00:39<01:05,  1.02it/s]14\n",
      " 34%|██████████████▎                           | 34/100 [00:40<01:12,  1.10s/it]10\n",
      " 35%|██████████████▋                           | 35/100 [00:42<01:28,  1.36s/it]13\n",
      " 36%|███████████████                           | 36/100 [00:43<01:12,  1.13s/it]12\n",
      " 37%|███████████████▌                          | 37/100 [00:43<01:01,  1.03it/s]6\n",
      " 38%|███████████████▉                          | 38/100 [00:45<01:12,  1.17s/it]8\n",
      " 39%|████████████████▍                         | 39/100 [00:46<01:08,  1.13s/it]19\n",
      " 40%|████████████████▊                         | 40/100 [00:47<01:09,  1.16s/it]8\n",
      " 41%|█████████████████▏                        | 41/100 [00:49<01:14,  1.27s/it]10\n",
      " 42%|█████████████████▋                        | 42/100 [00:50<01:16,  1.31s/it]9\n",
      " 43%|██████████████████                        | 43/100 [00:51<01:00,  1.06s/it]21\n",
      " 44%|██████████████████▍                       | 44/100 [00:51<00:54,  1.03it/s]8\n",
      " 45%|██████████████████▉                       | 45/100 [00:53<01:01,  1.12s/it]7\n",
      " 46%|███████████████████▎                      | 46/100 [00:54<00:54,  1.01s/it]12\n",
      " 47%|███████████████████▋                      | 47/100 [00:54<00:49,  1.06it/s]16\n",
      " 48%|████████████████████▏                     | 48/100 [00:55<00:44,  1.17it/s]20\n",
      " 49%|████████████████████▌                     | 49/100 [00:56<00:46,  1.11it/s]11\n",
      " 50%|█████████████████████                     | 50/100 [00:57<00:50,  1.01s/it]5\n",
      " 51%|█████████████████████▍                    | 51/100 [00:58<00:51,  1.06s/it]2\n",
      " 52%|█████████████████████▊                    | 52/100 [01:00<00:57,  1.19s/it]9\n",
      " 53%|██████████████████████▎                   | 53/100 [01:02<01:05,  1.39s/it]1\n",
      " 54%|██████████████████████▋                   | 54/100 [01:03<01:00,  1.32s/it]21\n",
      " 55%|███████████████████████                   | 55/100 [01:04<00:58,  1.29s/it]4\n",
      " 56%|███████████████████████▌                  | 56/100 [01:06<00:58,  1.33s/it]10\n",
      " 57%|███████████████████████▉                  | 57/100 [01:06<00:50,  1.18s/it]8\n",
      " 58%|████████████████████████▎                 | 58/100 [01:08<00:52,  1.25s/it]7\n",
      " 59%|████████████████████████▊                 | 59/100 [01:08<00:43,  1.06s/it]28\n",
      " 60%|█████████████████████████▏                | 60/100 [01:10<00:46,  1.16s/it]12\n",
      " 61%|█████████████████████████▌                | 61/100 [01:11<00:42,  1.08s/it]26\n",
      " 62%|██████████████████████████                | 62/100 [01:11<00:33,  1.13it/s]5\n",
      " 63%|██████████████████████████▍               | 63/100 [01:12<00:30,  1.23it/s]9\n",
      " 64%|██████████████████████████▉               | 64/100 [01:13<00:31,  1.15it/s]20\n",
      " 65%|███████████████████████████▎              | 65/100 [01:14<00:36,  1.04s/it]6\n",
      " 66%|███████████████████████████▋              | 66/100 [01:15<00:31,  1.08it/s]11\n",
      " 67%|████████████████████████████▏             | 67/100 [01:16<00:32,  1.02it/s]11\n",
      " 68%|████████████████████████████▌             | 68/100 [01:17<00:29,  1.09it/s]14\n",
      " 69%|████████████████████████████▉             | 69/100 [01:18<00:31,  1.03s/it]5\n",
      " 70%|█████████████████████████████▍            | 70/100 [01:19<00:30,  1.02s/it]9\n",
      " 71%|█████████████████████████████▊            | 71/100 [01:21<00:33,  1.16s/it]4\n",
      " 72%|██████████████████████████████▏           | 72/100 [01:22<00:34,  1.23s/it]11\n",
      " 73%|██████████████████████████████▋           | 73/100 [01:23<00:31,  1.17s/it]15\n",
      " 74%|███████████████████████████████           | 74/100 [01:25<00:37,  1.43s/it]18\n",
      " 75%|███████████████████████████████▌          | 75/100 [01:26<00:33,  1.33s/it]7\n",
      " 76%|███████████████████████████████▉          | 76/100 [01:27<00:29,  1.22s/it]14\n",
      " 77%|████████████████████████████████▎         | 77/100 [01:28<00:23,  1.01s/it]3\n",
      " 78%|████████████████████████████████▊         | 78/100 [01:29<00:26,  1.20s/it]2\n",
      " 79%|█████████████████████████████████▏        | 79/100 [01:32<00:35,  1.68s/it]4\n",
      " 80%|█████████████████████████████████▌        | 80/100 [01:33<00:27,  1.39s/it]10\n",
      " 81%|██████████████████████████████████        | 81/100 [01:34<00:27,  1.43s/it]2\n",
      " 82%|██████████████████████████████████▍       | 82/100 [01:36<00:27,  1.54s/it]4\n",
      " 83%|██████████████████████████████████▊       | 83/100 [01:37<00:25,  1.47s/it]12\n",
      " 84%|███████████████████████████████████▎      | 84/100 [01:38<00:20,  1.29s/it]13\n",
      " 85%|███████████████████████████████████▋      | 85/100 [01:39<00:15,  1.03s/it]5\n",
      " 86%|████████████████████████████████████      | 86/100 [01:40<00:14,  1.07s/it]7\n",
      " 87%|████████████████████████████████████▌     | 87/100 [01:41<00:14,  1.09s/it]4\n",
      " 88%|████████████████████████████████████▉     | 88/100 [01:42<00:11,  1.04it/s]12\n",
      " 89%|█████████████████████████████████████▍    | 89/100 [01:43<00:11,  1.03s/it]4\n",
      " 90%|█████████████████████████████████████▊    | 90/100 [01:44<00:11,  1.14s/it]5\n",
      " 91%|██████████████████████████████████████▏   | 91/100 [01:46<00:11,  1.29s/it]11\n",
      " 92%|██████████████████████████████████████▋   | 92/100 [01:47<00:09,  1.18s/it]3\n",
      " 93%|███████████████████████████████████████   | 93/100 [01:49<00:09,  1.40s/it]14\n",
      " 94%|███████████████████████████████████████▍  | 94/100 [01:49<00:06,  1.05s/it]7\n",
      " 95%|███████████████████████████████████████▉  | 95/100 [01:49<00:04,  1.11it/s]6\n",
      " 96%|████████████████████████████████████████▎ | 96/100 [01:51<00:04,  1.18s/it]7\n",
      " 97%|████████████████████████████████████████▋ | 97/100 [01:53<00:03,  1.32s/it]7\n",
      " 98%|█████████████████████████████████████████▏| 98/100 [01:54<00:02,  1.10s/it]4\n",
      " 99%|█████████████████████████████████████████▌| 99/100 [01:54<00:00,  1.06it/s]9\n",
      "100%|█████████████████████████████████████████| 100/100 [01:55<00:00,  1.16s/it]\n",
      "Finished in 00h:01m:55s\n",
      "CPU times: user 1.97 s, sys: 620 ms, total: 2.59 s\n",
      "Wall time: 1min 56s\n"
     ]
    }
   ],
   "source": [
    "%time !python Masks/get_ignore_area.py"
   ]
  },
  {
   "cell_type": "markdown",
   "metadata": {
    "id": "9hMKAgLyqWs2"
   },
   "source": [
    "## Anomaly Detection"
   ]
  },
  {
   "cell_type": "code",
   "execution_count": 50,
   "metadata": {
    "id": "fhaOmsV0qGYL"
   },
   "outputs": [
    {
     "name": "stdout",
     "output_type": "stream",
     "text": [
      "**** extract_objects ****\n",
      "100%|█████████████████████████████████████████| 100/100 [00:02<00:00, 44.63it/s]\n",
      "**** extract_cases ****\n",
      "100%|█████████████████████████████████████████| 100/100 [00:34<00:00,  2.93it/s]\n",
      "PT [1, 3, 4, 5, 6, 7, 9, 10, 12, 13, 15, 17, 18, 19, 21, 22, 23, 25, 26, 27, 29, 30, 31, 32, 33, 35, 37, 38, 39, 41, 42, 43, 44, 45, 46, 47, 48, 49, 51, 53, 54, 55, 56, 57, 58, 60, 61, 63, 64, 65, 67, 68, 69, 70, 72, 73, 74, 75, 76, 77, 79, 80, 81, 83, 85, 86, 87, 88, 89, 90, 91, 92, 93, 95, 97, 99, 100]\n",
      "change_cam [2, 11, 24, 28, 34, 36, 40, 50, 52, 66, 71, 78, 82, 84, 96]\n",
      "**** extract_roi1 ****\n",
      "/home/hieple/aicity/baseline/vid_utils.py:280: VisibleDeprecationWarning: Creating an ndarray from ragged nested sequences (which is a list-or-tuple of lists-or-tuples-or ndarrays with different lengths or shapes) is deprecated. If you meant to do this, you must specify 'dtype=object' when creating the ndarray\n",
      "  t = np.array(all_cords[cam_change[i] - 1])\n",
      "**** extract_bounds1 ****\n",
      "**** backtrack1 ****\n",
      "0it [00:00, ?it/s]\n",
      "0it [00:00, ?it/s]\n",
      "/home/hieple/.pyenv/versions/3.8.12/envs/ai/lib/python3.8/site-packages/numpy/core/_asarray.py:136: VisibleDeprecationWarning: Creating an ndarray from ragged nested sequences (which is a list-or-tuple of lists-or-tuples-or ndarrays with different lengths or shapes) is deprecated. If you meant to do this, you must specify 'dtype=object' when creating the ndarray\n",
      "  return array(a, dtype, copy=False, order=order, subok=True)\n",
      "CPU times: user 541 ms, sys: 136 ms, total: 678 ms\n",
      "Wall time: 39.9 s\n"
     ]
    }
   ],
   "source": [
    "%time !python Detector.py"
   ]
  }
 ],
 "metadata": {
  "accelerator": "GPU",
  "colab": {
   "collapsed_sections": [],
   "name": "Baseline",
   "provenance": []
  },
  "kernelspec": {
   "display_name": "Python 3 (ipykernel)",
   "language": "python",
   "name": "python3"
  },
  "language_info": {
   "codemirror_mode": {
    "name": "ipython",
    "version": 3
   },
   "file_extension": ".py",
   "mimetype": "text/x-python",
   "name": "python",
   "nbconvert_exporter": "python",
   "pygments_lexer": "ipython3",
   "version": "3.8.12"
  }
 },
 "nbformat": 4,
 "nbformat_minor": 4
}
