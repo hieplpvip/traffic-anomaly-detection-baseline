{
 "cells": [
  {
   "cell_type": "markdown",
   "metadata": {},
   "source": [
    "# Install decord"
   ]
  },
  {
   "cell_type": "code",
   "execution_count": 1,
   "metadata": {},
   "outputs": [],
   "source": [
    "#!sudo add-apt-repository -y ppa:jonathonf/ffmpeg-4\n",
    "#!sudo apt update\n",
    "#!sudo apt install -y build-essential python3-dev python3-setuptools make cmake\n",
    "#!sudo apt install -y ffmpeg libavcodec-dev libavfilter-dev libavformat-dev libavutil-dev"
   ]
  },
  {
   "cell_type": "code",
   "execution_count": 2,
   "metadata": {},
   "outputs": [],
   "source": [
    "#!git clone --recursive https://github.com/dmlc/decord"
   ]
  },
  {
   "cell_type": "code",
   "execution_count": 3,
   "metadata": {},
   "outputs": [],
   "source": [
    "#%cd decord\n",
    "#!mkdir build\n",
    "#%cd build\n",
    "#!cmake .. -DUSE_CUDA=ON -DCMAKE_BUILD_TYPE=Release\n",
    "#!make"
   ]
  },
  {
   "cell_type": "code",
   "execution_count": 4,
   "metadata": {},
   "outputs": [],
   "source": [
    "#%cd ../python\n",
    "#!python setup.py install"
   ]
  },
  {
   "cell_type": "code",
   "execution_count": 5,
   "metadata": {},
   "outputs": [],
   "source": [
    "#%cd ../../"
   ]
  },
  {
   "cell_type": "markdown",
   "metadata": {},
   "source": [
    "# Install darknet"
   ]
  },
  {
   "cell_type": "code",
   "execution_count": 6,
   "metadata": {},
   "outputs": [],
   "source": [
    "#!git clone https://github.com/AlexeyAB/darknet"
   ]
  },
  {
   "cell_type": "code",
   "execution_count": 7,
   "metadata": {},
   "outputs": [],
   "source": [
    "#%cd darknet\n",
    "#!sed -i 's/OPENCV=0/OPENCV=1/' Makefile\n",
    "#!sed -i 's/GPU=0/GPU=1/' Makefile\n",
    "#!sed -i 's/CUDNN=0/CUDNN=1/' Makefile\n",
    "#!sed -i 's/CUDNN_HALF=0/CUDNN_HALF=1/' Makefile"
   ]
  },
  {
   "cell_type": "code",
   "execution_count": 8,
   "metadata": {},
   "outputs": [],
   "source": [
    "#!make"
   ]
  },
  {
   "cell_type": "code",
   "execution_count": 9,
   "metadata": {},
   "outputs": [],
   "source": [
    "#!wget https://github.com/AlexeyAB/darknet/releases/download/darknet_yolo_v3_optimal/yolov3.weights"
   ]
  },
  {
   "cell_type": "code",
   "execution_count": 10,
   "metadata": {},
   "outputs": [],
   "source": [
    "#%cd ../"
   ]
  },
  {
   "cell_type": "markdown",
   "metadata": {
    "id": "4NnOXpmDpc7I"
   },
   "source": [
    "## Background Modelling"
   ]
  },
  {
   "cell_type": "code",
   "execution_count": 11,
   "metadata": {
    "colab": {
     "base_uri": "https://localhost:8080/"
    },
    "id": "U39O71wRpDu1",
    "outputId": "2e74077e-7e21-46bd-cb5f-8821b7aa24e9"
   },
   "outputs": [
    {
     "name": "stdout",
     "output_type": "stream",
     "text": [
      "100%|█████████████████████████████████████████| 100/100 [06:13<00:00,  3.74s/it]\n",
      "Finished in 00h:06m:13s\n",
      "CPU times: user 4.14 s, sys: 1.51 s, total: 5.65 s\n",
      "Wall time: 6min 14s\n"
     ]
    }
   ],
   "source": [
    "%time !python extract_frames.py --root ~/aicity-data/aic19-track3-test-data --freq 100"
   ]
  },
  {
   "cell_type": "code",
   "execution_count": 12,
   "metadata": {
    "colab": {
     "base_uri": "https://localhost:8080/"
    },
    "id": "eswRr3tipE7p",
    "outputId": "f77a7108-5824-4468-a0a0-5324fb8bc99b"
   },
   "outputs": [
    {
     "name": "stdout",
     "output_type": "stream",
     "text": [
      "  0%|                                                   | 0/100 [00:00<?, ?it/s]  1\n",
      "  1%|▍                                          | 1/100 [00:01<03:14,  1.97s/it]  2\n",
      "  2%|▊                                          | 2/100 [00:03<03:05,  1.89s/it]  3\n",
      "  3%|█▎                                         | 3/100 [00:05<03:10,  1.96s/it]  4\n",
      "  4%|█▋                                         | 4/100 [00:07<03:06,  1.94s/it]  5\n",
      "  5%|██▏                                        | 5/100 [00:09<03:04,  1.94s/it]  6\n",
      "  6%|██▌                                        | 6/100 [00:11<02:58,  1.90s/it]  7\n",
      "  7%|███                                        | 7/100 [00:13<02:59,  1.93s/it]  8\n",
      "  8%|███▍                                       | 8/100 [00:15<03:00,  1.96s/it]  9\n",
      "  9%|███▊                                       | 9/100 [00:17<03:00,  1.99s/it]  10\n",
      " 10%|████▏                                     | 10/100 [00:19<03:00,  2.00s/it]  11\n",
      " 11%|████▌                                     | 11/100 [00:21<03:00,  2.02s/it]  12\n",
      " 12%|█████                                     | 12/100 [00:23<02:55,  2.00s/it]  13\n",
      " 13%|█████▍                                    | 13/100 [00:25<02:50,  1.95s/it]  14\n",
      " 14%|█████▉                                    | 14/100 [00:27<02:45,  1.93s/it]  15\n",
      " 15%|██████▎                                   | 15/100 [00:29<02:43,  1.93s/it]  16\n",
      " 16%|██████▋                                   | 16/100 [00:31<02:49,  2.02s/it]  17\n",
      " 17%|███████▏                                  | 17/100 [00:33<02:52,  2.08s/it]  18\n",
      " 18%|███████▌                                  | 18/100 [00:36<02:57,  2.16s/it]  19\n",
      " 19%|███████▉                                  | 19/100 [00:37<02:45,  2.04s/it]  20\n",
      " 20%|████████▍                                 | 20/100 [00:39<02:44,  2.06s/it]  21\n",
      " 21%|████████▊                                 | 21/100 [00:41<02:42,  2.05s/it]  22\n",
      " 22%|█████████▏                                | 22/100 [00:43<02:35,  2.00s/it]  23\n",
      " 23%|█████████▋                                | 23/100 [00:45<02:33,  2.00s/it]  24\n",
      " 24%|██████████                                | 24/100 [00:47<02:33,  2.02s/it]  25\n",
      " 25%|██████████▌                               | 25/100 [00:49<02:28,  1.98s/it]  26\n",
      " 26%|██████████▉                               | 26/100 [00:51<02:26,  1.98s/it]  27\n",
      " 27%|███████████▎                              | 27/100 [00:53<02:25,  1.99s/it]  28\n",
      " 28%|███████████▊                              | 28/100 [00:55<02:22,  1.98s/it]  29\n",
      " 29%|████████████▏                             | 29/100 [00:57<02:23,  2.03s/it]  30\n",
      " 30%|████████████▌                             | 30/100 [00:59<02:18,  1.97s/it]  31\n",
      " 31%|█████████████                             | 31/100 [01:01<02:15,  1.96s/it]  32\n",
      " 32%|█████████████▍                            | 32/100 [01:03<02:15,  1.99s/it]  33\n",
      " 33%|█████████████▊                            | 33/100 [01:05<02:13,  2.00s/it]  34\n",
      " 34%|██████████████▎                           | 34/100 [01:07<02:08,  1.95s/it]  35\n",
      " 35%|██████████████▋                           | 35/100 [01:09<02:06,  1.94s/it]  36\n",
      " 36%|███████████████                           | 36/100 [01:11<01:59,  1.86s/it]  37\n",
      " 37%|███████████████▌                          | 37/100 [01:13<01:57,  1.86s/it]  38\n",
      " 38%|███████████████▉                          | 38/100 [01:15<01:56,  1.88s/it]  39\n",
      " 39%|████████████████▍                         | 39/100 [01:16<01:52,  1.84s/it]  40\n",
      " 40%|████████████████▊                         | 40/100 [01:18<01:54,  1.91s/it]  41\n",
      " 41%|█████████████████▏                        | 41/100 [01:20<01:54,  1.94s/it]  42\n",
      " 42%|█████████████████▋                        | 42/100 [01:22<01:52,  1.94s/it]  43\n",
      " 43%|██████████████████                        | 43/100 [01:24<01:50,  1.94s/it]  44\n",
      " 44%|██████████████████▍                       | 44/100 [01:26<01:48,  1.95s/it]  45\n",
      " 45%|██████████████████▉                       | 45/100 [01:28<01:50,  2.00s/it]  46\n",
      " 46%|███████████████████▎                      | 46/100 [01:30<01:44,  1.94s/it]  47\n",
      " 47%|███████████████████▋                      | 47/100 [01:32<01:46,  2.01s/it]  48\n",
      " 48%|████████████████████▏                     | 48/100 [01:34<01:43,  2.00s/it]  49\n",
      " 49%|████████████████████▌                     | 49/100 [01:36<01:39,  1.96s/it]  50\n",
      " 50%|█████████████████████                     | 50/100 [01:38<01:37,  1.94s/it]  51\n",
      " 51%|█████████████████████▍                    | 51/100 [01:40<01:37,  1.99s/it]  52\n",
      " 52%|█████████████████████▊                    | 52/100 [01:42<01:35,  1.99s/it]  53\n",
      " 53%|██████████████████████▎                   | 53/100 [01:44<01:32,  1.97s/it]  54\n",
      " 54%|██████████████████████▋                   | 54/100 [01:46<01:29,  1.96s/it]  55\n",
      " 55%|███████████████████████                   | 55/100 [01:48<01:31,  2.04s/it]  56\n",
      " 56%|███████████████████████▌                  | 56/100 [01:50<01:30,  2.06s/it]  57\n",
      " 57%|███████████████████████▉                  | 57/100 [01:52<01:25,  1.98s/it]  58\n",
      " 58%|████████████████████████▎                 | 58/100 [01:54<01:22,  1.96s/it]  59\n",
      " 59%|████████████████████████▊                 | 59/100 [01:56<01:20,  1.96s/it]  60\n",
      " 60%|█████████████████████████▏                | 60/100 [01:58<01:19,  1.98s/it]  61\n",
      " 61%|█████████████████████████▌                | 61/100 [02:00<01:17,  1.99s/it]  62\n",
      " 62%|██████████████████████████                | 62/100 [02:02<01:12,  1.91s/it]  63\n",
      " 63%|██████████████████████████▍               | 63/100 [02:03<01:05,  1.78s/it]  64\n",
      " 64%|██████████████████████████▉               | 64/100 [02:05<01:05,  1.82s/it]  65\n",
      " 65%|███████████████████████████▎              | 65/100 [02:07<01:06,  1.89s/it]  66\n",
      " 66%|███████████████████████████▋              | 66/100 [02:09<01:02,  1.83s/it]  67\n",
      " 67%|████████████████████████████▏             | 67/100 [02:11<01:01,  1.85s/it]  68\n",
      " 68%|████████████████████████████▌             | 68/100 [02:13<00:59,  1.86s/it]  69\n",
      " 69%|████████████████████████████▉             | 69/100 [02:15<01:00,  1.94s/it]  70\n",
      " 70%|█████████████████████████████▍            | 70/100 [02:17<00:58,  1.96s/it]  71\n",
      " 71%|█████████████████████████████▊            | 71/100 [02:19<00:57,  1.97s/it]  72\n",
      " 72%|██████████████████████████████▏           | 72/100 [02:21<00:55,  1.96s/it]  73\n",
      " 73%|██████████████████████████████▋           | 73/100 [02:23<00:52,  1.95s/it]  74\n",
      " 74%|███████████████████████████████           | 74/100 [02:24<00:49,  1.91s/it]  75\n",
      " 75%|███████████████████████████████▌          | 75/100 [02:27<00:50,  2.02s/it]  76\n",
      " 76%|███████████████████████████████▉          | 76/100 [02:29<00:47,  1.97s/it]  77\n",
      " 77%|████████████████████████████████▎         | 77/100 [02:30<00:43,  1.90s/it]  78\n",
      " 78%|████████████████████████████████▊         | 78/100 [02:32<00:41,  1.87s/it]  79\n",
      " 79%|█████████████████████████████████▏        | 79/100 [02:34<00:38,  1.82s/it]  80\n",
      " 80%|█████████████████████████████████▌        | 80/100 [02:36<00:36,  1.83s/it]  81\n",
      " 81%|██████████████████████████████████        | 81/100 [02:38<00:34,  1.83s/it]  82\n",
      " 82%|██████████████████████████████████▍       | 82/100 [02:40<00:35,  1.96s/it]  83\n",
      " 83%|██████████████████████████████████▊       | 83/100 [02:42<00:33,  1.98s/it]  84\n",
      " 84%|███████████████████████████████████▎      | 84/100 [02:44<00:32,  2.02s/it]  85\n",
      " 85%|███████████████████████████████████▋      | 85/100 [02:46<00:30,  2.06s/it]  86\n",
      " 86%|████████████████████████████████████      | 86/100 [02:48<00:29,  2.11s/it]  87\n",
      " 87%|████████████████████████████████████▌     | 87/100 [02:50<00:26,  2.06s/it]  88\n",
      " 88%|████████████████████████████████████▉     | 88/100 [02:52<00:24,  2.08s/it]  89\n",
      " 89%|█████████████████████████████████████▍    | 89/100 [02:54<00:22,  2.05s/it]  90\n",
      " 90%|█████████████████████████████████████▊    | 90/100 [02:56<00:20,  2.04s/it]  91\n",
      " 91%|██████████████████████████████████████▏   | 91/100 [02:58<00:18,  2.02s/it]  92\n",
      " 92%|██████████████████████████████████████▋   | 92/100 [03:00<00:15,  1.97s/it]  93\n",
      " 93%|███████████████████████████████████████   | 93/100 [03:02<00:13,  1.99s/it]  94\n",
      " 94%|███████████████████████████████████████▍  | 94/100 [03:04<00:11,  1.94s/it]  95\n",
      " 95%|███████████████████████████████████████▉  | 95/100 [03:06<00:09,  1.88s/it]  96\n",
      " 96%|████████████████████████████████████████▎ | 96/100 [03:08<00:07,  1.88s/it]  97\n",
      " 97%|████████████████████████████████████████▋ | 97/100 [03:10<00:05,  1.94s/it]  98\n",
      " 98%|█████████████████████████████████████████▏| 98/100 [03:12<00:03,  1.94s/it]  99\n",
      " 99%|█████████████████████████████████████████▌| 99/100 [03:13<00:01,  1.88s/it]  100\n",
      "100%|█████████████████████████████████████████| 100/100 [03:15<00:00,  1.96s/it]\n",
      "Finished in 00h:03m:15s\n",
      "CPU times: user 1.99 s, sys: 497 ms, total: 2.48 s\n",
      "Wall time: 3min 16s\n"
     ]
    }
   ],
   "source": [
    "%time !python extract_processed.py"
   ]
  },
  {
   "cell_type": "code",
   "execution_count": 13,
   "metadata": {
    "colab": {
     "base_uri": "https://localhost:8080/"
    },
    "id": "zoMrz6ccpi9c",
    "outputId": "8f66f0b8-15f1-4c37-f2ae-327b7950e8e3"
   },
   "outputs": [
    {
     "name": "stdout",
     "output_type": "stream",
     "text": [
      "/home/hieple/aicity/baseline/darknet\n"
     ]
    }
   ],
   "source": [
    "%cd darknet"
   ]
  },
  {
   "cell_type": "code",
   "execution_count": 14,
   "metadata": {
    "colab": {
     "base_uri": "https://localhost:8080/"
    },
    "id": "D4ARO7gUpRGo",
    "outputId": "0bca1093-ce9a-4d66-e98d-c266f5d3e31a"
   },
   "outputs": [
    {
     "name": "stdout",
     "output_type": "stream",
     "text": [
      " CUDA-version: 11020 (11060), cuDNN: 8.1.1, CUDNN_HALF=1, GPU count: 1  \n",
      " OpenCV version: 4.2.0\n",
      " 0 : compute_capability = 860, cudnn_half = 1, GPU: NVIDIA GeForce RTX 3090 \n",
      "   layer   filters  size/strd(dil)      input                output\n",
      "   0 conv     32       3 x 3/ 1    416 x 416 x   3 ->  416 x 416 x  32 0.299 BF\n",
      "   1 conv     64       3 x 3/ 2    416 x 416 x  32 ->  208 x 208 x  64 1.595 BF\n",
      "   2 conv     32       1 x 1/ 1    208 x 208 x  64 ->  208 x 208 x  32 0.177 BF\n",
      "   3 conv     64       3 x 3/ 1    208 x 208 x  32 ->  208 x 208 x  64 1.595 BF\n",
      "   4 Shortcut Layer: 1,  wt = 0, wn = 0, outputs: 208 x 208 x  64 0.003 BF\n",
      "   5 conv    128       3 x 3/ 2    208 x 208 x  64 ->  104 x 104 x 128 1.595 BF\n",
      "   6 conv     64       1 x 1/ 1    104 x 104 x 128 ->  104 x 104 x  64 0.177 BF\n",
      "   7 conv    128       3 x 3/ 1    104 x 104 x  64 ->  104 x 104 x 128 1.595 BF\n",
      "   8 Shortcut Layer: 5,  wt = 0, wn = 0, outputs: 104 x 104 x 128 0.001 BF\n",
      "   9 conv     64       1 x 1/ 1    104 x 104 x 128 ->  104 x 104 x  64 0.177 BF\n",
      "  10 conv    128       3 x 3/ 1    104 x 104 x  64 ->  104 x 104 x 128 1.595 BF\n",
      "  11 Shortcut Layer: 8,  wt = 0, wn = 0, outputs: 104 x 104 x 128 0.001 BF\n",
      "  12 conv    256       3 x 3/ 2    104 x 104 x 128 ->   52 x  52 x 256 1.595 BF\n",
      "  13 conv    128       1 x 1/ 1     52 x  52 x 256 ->   52 x  52 x 128 0.177 BF\n",
      "  14 conv    256       3 x 3/ 1     52 x  52 x 128 ->   52 x  52 x 256 1.595 BF\n",
      "  15 Shortcut Layer: 12,  wt = 0, wn = 0, outputs:  52 x  52 x 256 0.001 BF\n",
      "  16 conv    128       1 x 1/ 1     52 x  52 x 256 ->   52 x  52 x 128 0.177 BF\n",
      "  17 conv    256       3 x 3/ 1     52 x  52 x 128 ->   52 x  52 x 256 1.595 BF\n",
      "  18 Shortcut Layer: 15,  wt = 0, wn = 0, outputs:  52 x  52 x 256 0.001 BF\n",
      "  19 conv    128       1 x 1/ 1     52 x  52 x 256 ->   52 x  52 x 128 0.177 BF\n",
      "  20 conv    256       3 x 3/ 1     52 x  52 x 128 ->   52 x  52 x 256 1.595 BF\n",
      "  21 Shortcut Layer: 18,  wt = 0, wn = 0, outputs:  52 x  52 x 256 0.001 BF\n",
      "  22 conv    128       1 x 1/ 1     52 x  52 x 256 ->   52 x  52 x 128 0.177 BF\n",
      "  23 conv    256       3 x 3/ 1     52 x  52 x 128 ->   52 x  52 x 256 1.595 BF\n",
      "  24 Shortcut Layer: 21,  wt = 0, wn = 0, outputs:  52 x  52 x 256 0.001 BF\n",
      "  25 conv    128       1 x 1/ 1     52 x  52 x 256 ->   52 x  52 x 128 0.177 BF\n",
      "  26 conv    256       3 x 3/ 1     52 x  52 x 128 ->   52 x  52 x 256 1.595 BF\n",
      "  27 Shortcut Layer: 24,  wt = 0, wn = 0, outputs:  52 x  52 x 256 0.001 BF\n",
      "  28 conv    128       1 x 1/ 1     52 x  52 x 256 ->   52 x  52 x 128 0.177 BF\n",
      "  29 conv    256       3 x 3/ 1     52 x  52 x 128 ->   52 x  52 x 256 1.595 BF\n",
      "  30 Shortcut Layer: 27,  wt = 0, wn = 0, outputs:  52 x  52 x 256 0.001 BF\n",
      "  31 conv    128       1 x 1/ 1     52 x  52 x 256 ->   52 x  52 x 128 0.177 BF\n",
      "  32 conv    256       3 x 3/ 1     52 x  52 x 128 ->   52 x  52 x 256 1.595 BF\n",
      "  33 Shortcut Layer: 30,  wt = 0, wn = 0, outputs:  52 x  52 x 256 0.001 BF\n",
      "  34 conv    128       1 x 1/ 1     52 x  52 x 256 ->   52 x  52 x 128 0.177 BF\n",
      "  35 conv    256       3 x 3/ 1     52 x  52 x 128 ->   52 x  52 x 256 1.595 BF\n",
      "  36 Shortcut Layer: 33,  wt = 0, wn = 0, outputs:  52 x  52 x 256 0.001 BF\n",
      "  37 conv    512       3 x 3/ 2     52 x  52 x 256 ->   26 x  26 x 512 1.595 BF\n",
      "  38 conv    256       1 x 1/ 1     26 x  26 x 512 ->   26 x  26 x 256 0.177 BF\n",
      "  39 conv    512       3 x 3/ 1     26 x  26 x 256 ->   26 x  26 x 512 1.595 BF\n",
      "  40 Shortcut Layer: 37,  wt = 0, wn = 0, outputs:  26 x  26 x 512 0.000 BF\n",
      "  41 conv    256       1 x 1/ 1     26 x  26 x 512 ->   26 x  26 x 256 0.177 BF\n",
      "  42 conv    512       3 x 3/ 1     26 x  26 x 256 ->   26 x  26 x 512 1.595 BF\n",
      "  43 Shortcut Layer: 40,  wt = 0, wn = 0, outputs:  26 x  26 x 512 0.000 BF\n",
      "  44 conv    256       1 x 1/ 1     26 x  26 x 512 ->   26 x  26 x 256 0.177 BF\n",
      "  45 conv    512       3 x 3/ 1     26 x  26 x 256 ->   26 x  26 x 512 1.595 BF\n",
      "  46 Shortcut Layer: 43,  wt = 0, wn = 0, outputs:  26 x  26 x 512 0.000 BF\n",
      "  47 conv    256       1 x 1/ 1     26 x  26 x 512 ->   26 x  26 x 256 0.177 BF\n",
      "  48 conv    512       3 x 3/ 1     26 x  26 x 256 ->   26 x  26 x 512 1.595 BF\n",
      "  49 Shortcut Layer: 46,  wt = 0, wn = 0, outputs:  26 x  26 x 512 0.000 BF\n",
      "  50 conv    256       1 x 1/ 1     26 x  26 x 512 ->   26 x  26 x 256 0.177 BF\n",
      "  51 conv    512       3 x 3/ 1     26 x  26 x 256 ->   26 x  26 x 512 1.595 BF\n",
      "  52 Shortcut Layer: 49,  wt = 0, wn = 0, outputs:  26 x  26 x 512 0.000 BF\n",
      "  53 conv    256       1 x 1/ 1     26 x  26 x 512 ->   26 x  26 x 256 0.177 BF\n",
      "  54 conv    512       3 x 3/ 1     26 x  26 x 256 ->   26 x  26 x 512 1.595 BF\n",
      "  55 Shortcut Layer: 52,  wt = 0, wn = 0, outputs:  26 x  26 x 512 0.000 BF\n",
      "  56 conv    256       1 x 1/ 1     26 x  26 x 512 ->   26 x  26 x 256 0.177 BF\n",
      "  57 conv    512       3 x 3/ 1     26 x  26 x 256 ->   26 x  26 x 512 1.595 BF\n",
      "  58 Shortcut Layer: 55,  wt = 0, wn = 0, outputs:  26 x  26 x 512 0.000 BF\n",
      "  59 conv    256       1 x 1/ 1     26 x  26 x 512 ->   26 x  26 x 256 0.177 BF\n",
      "  60 conv    512       3 x 3/ 1     26 x  26 x 256 ->   26 x  26 x 512 1.595 BF\n",
      "  61 Shortcut Layer: 58,  wt = 0, wn = 0, outputs:  26 x  26 x 512 0.000 BF\n",
      "  62 conv   1024       3 x 3/ 2     26 x  26 x 512 ->   13 x  13 x1024 1.595 BF\n",
      "  63 conv    512       1 x 1/ 1     13 x  13 x1024 ->   13 x  13 x 512 0.177 BF\n",
      "  64 conv   1024       3 x 3/ 1     13 x  13 x 512 ->   13 x  13 x1024 1.595 BF\n",
      "  65 Shortcut Layer: 62,  wt = 0, wn = 0, outputs:  13 x  13 x1024 0.000 BF\n",
      "  66 conv    512       1 x 1/ 1     13 x  13 x1024 ->   13 x  13 x 512 0.177 BF\n",
      "  67 conv   1024       3 x 3/ 1     13 x  13 x 512 ->   13 x  13 x1024 1.595 BF\n",
      "  68 Shortcut Layer: 65,  wt = 0, wn = 0, outputs:  13 x  13 x1024 0.000 BF\n",
      "  69 conv    512       1 x 1/ 1     13 x  13 x1024 ->   13 x  13 x 512 0.177 BF\n",
      "  70 conv   1024       3 x 3/ 1     13 x  13 x 512 ->   13 x  13 x1024 1.595 BF\n",
      "  71 Shortcut Layer: 68,  wt = 0, wn = 0, outputs:  13 x  13 x1024 0.000 BF\n",
      "  72 conv    512       1 x 1/ 1     13 x  13 x1024 ->   13 x  13 x 512 0.177 BF\n",
      "  73 conv   1024       3 x 3/ 1     13 x  13 x 512 ->   13 x  13 x1024 1.595 BF\n",
      "  74 Shortcut Layer: 71,  wt = 0, wn = 0, outputs:  13 x  13 x1024 0.000 BF\n",
      "  75 conv    512       1 x 1/ 1     13 x  13 x1024 ->   13 x  13 x 512 0.177 BF\n",
      "  76 conv   1024       3 x 3/ 1     13 x  13 x 512 ->   13 x  13 x1024 1.595 BF\n",
      "  77 conv    512       1 x 1/ 1     13 x  13 x1024 ->   13 x  13 x 512 0.177 BF\n",
      "  78 conv   1024       3 x 3/ 1     13 x  13 x 512 ->   13 x  13 x1024 1.595 BF\n",
      "  79 conv    512       1 x 1/ 1     13 x  13 x1024 ->   13 x  13 x 512 0.177 BF\n",
      "  80 conv   1024       3 x 3/ 1     13 x  13 x 512 ->   13 x  13 x1024 1.595 BF\n",
      "  81 conv    255       1 x 1/ 1     13 x  13 x1024 ->   13 x  13 x 255 0.088 BF\n",
      "  82 yolo\n",
      "[yolo] params: iou loss: mse (2), iou_norm: 0.75, obj_norm: 1.00, cls_norm: 1.00, delta_norm: 1.00, scale_x_y: 1.00\n",
      "  83 route  79 \t\t                           ->   13 x  13 x 512 \n",
      "  84 conv    256       1 x 1/ 1     13 x  13 x 512 ->   13 x  13 x 256 0.044 BF\n",
      "  85 upsample                 2x    13 x  13 x 256 ->   26 x  26 x 256\n",
      "  86 route  85 61 \t                           ->   26 x  26 x 768 \n",
      "  87 conv    256       1 x 1/ 1     26 x  26 x 768 ->   26 x  26 x 256 0.266 BF\n",
      "  88 conv    512       3 x 3/ 1     26 x  26 x 256 ->   26 x  26 x 512 1.595 BF\n",
      "  89 conv    256       1 x 1/ 1     26 x  26 x 512 ->   26 x  26 x 256 0.177 BF\n",
      "  90 conv    512       3 x 3/ 1     26 x  26 x 256 ->   26 x  26 x 512 1.595 BF\n",
      "  91 conv    256       1 x 1/ 1     26 x  26 x 512 ->   26 x  26 x 256 0.177 BF\n",
      "  92 conv    512       3 x 3/ 1     26 x  26 x 256 ->   26 x  26 x 512 1.595 BF\n",
      "  93 conv    255       1 x 1/ 1     26 x  26 x 512 ->   26 x  26 x 255 0.177 BF\n",
      "  94 yolo\n",
      "[yolo] params: iou loss: mse (2), iou_norm: 0.75, obj_norm: 1.00, cls_norm: 1.00, delta_norm: 1.00, scale_x_y: 1.00\n",
      "  95 route  91 \t\t                           ->   26 x  26 x 256 \n",
      "  96 conv    128       1 x 1/ 1     26 x  26 x 256 ->   26 x  26 x 128 0.044 BF\n",
      "  97 upsample                 2x    26 x  26 x 128 ->   52 x  52 x 128\n",
      "  98 route  97 36 \t                           ->   52 x  52 x 384 \n",
      "  99 conv    128       1 x 1/ 1     52 x  52 x 384 ->   52 x  52 x 128 0.266 BF\n",
      " 100 conv    256       3 x 3/ 1     52 x  52 x 128 ->   52 x  52 x 256 1.595 BF\n",
      " 101 conv    128       1 x 1/ 1     52 x  52 x 256 ->   52 x  52 x 128 0.177 BF\n",
      " 102 conv    256       3 x 3/ 1     52 x  52 x 128 ->   52 x  52 x 256 1.595 BF\n",
      " 103 conv    128       1 x 1/ 1     52 x  52 x 256 ->   52 x  52 x 128 0.177 BF\n",
      " 104 conv    256       3 x 3/ 1     52 x  52 x 128 ->   52 x  52 x 256 1.595 BF\n",
      " 105 conv    255       1 x 1/ 1     52 x  52 x 256 ->   52 x  52 x 255 0.353 BF\n",
      " 106 yolo\n",
      "[yolo] params: iou loss: mse (2), iou_norm: 0.75, obj_norm: 1.00, cls_norm: 1.00, delta_norm: 1.00, scale_x_y: 1.00\n",
      "Total BFLOPS 65.879 \n",
      "avg_outputs = 532444 \n",
      " Allocate additional workspace_size = 22.23 MB \n",
      "Loading weights from yolov3.weights...Done! Loaded 107 layers from weights-file \n",
      "CPU times: user 14.2 s, sys: 5.33 s, total: 19.5 s\n",
      "Wall time: 19min 54s\n"
     ]
    }
   ],
   "source": [
    "%time !./darknet detector test cfg/coco.data cfg/yolov3.cfg yolov3.weights -ext_output -dont_show -out result.json < ../processed_images2.txt -thresh 0.1 > background_output.txt"
   ]
  },
  {
   "cell_type": "code",
   "execution_count": 28,
   "metadata": {},
   "outputs": [],
   "source": [
    "!cp result.json ../result.json"
   ]
  },
  {
   "cell_type": "code",
   "execution_count": 29,
   "metadata": {},
   "outputs": [
    {
     "name": "stdout",
     "output_type": "stream",
     "text": [
      "/home/hieple/aicity/baseline\n"
     ]
    }
   ],
   "source": [
    "%cd .."
   ]
  },
  {
   "cell_type": "markdown",
   "metadata": {
    "id": "zleJe5mSpktz"
   },
   "source": [
    "## Segmentation Maps"
   ]
  },
  {
   "cell_type": "code",
   "execution_count": 16,
   "metadata": {
    "colab": {
     "base_uri": "https://localhost:8080/"
    },
    "id": "F1HucAnRpwXi",
    "outputId": "d38937d3-0dd2-48c2-b957-1239700d5bd6"
   },
   "outputs": [
    {
     "name": "stdout",
     "output_type": "stream",
     "text": [
      "100%|█████████████████████████████████████████| 100/100 [23:45<00:00, 14.25s/it]\n",
      "Finished in 00h:23m:45s\n",
      "CPU times: user 16.5 s, sys: 5.18 s, total: 21.7 s\n",
      "Wall time: 23min 45s\n"
     ]
    }
   ],
   "source": [
    "%time !python extract_frames.py --root ~/aicity-data/aic19-track3-test-data --freq 10"
   ]
  },
  {
   "cell_type": "code",
   "execution_count": 17,
   "metadata": {
    "colab": {
     "base_uri": "https://localhost:8080/"
    },
    "id": "q-RT3WMUp12a",
    "outputId": "a774c7e7-6a5a-4853-b9a8-dc771752ae9b"
   },
   "outputs": [
    {
     "name": "stdout",
     "output_type": "stream",
     "text": [
      "/home/hieple/aicity/baseline/darknet\n"
     ]
    }
   ],
   "source": [
    "%cd darknet"
   ]
  },
  {
   "cell_type": "code",
   "execution_count": 18,
   "metadata": {
    "colab": {
     "base_uri": "https://localhost:8080/"
    },
    "id": "iM8IU028pR0e",
    "outputId": "ff42193b-191a-43cd-a623-70a722c31ed2"
   },
   "outputs": [
    {
     "name": "stdout",
     "output_type": "stream",
     "text": [
      " CUDA-version: 11020 (11060), cuDNN: 8.1.1, CUDNN_HALF=1, GPU count: 1  \n",
      " OpenCV version: 4.2.0\n",
      " 0 : compute_capability = 860, cudnn_half = 1, GPU: NVIDIA GeForce RTX 3090 \n",
      "   layer   filters  size/strd(dil)      input                output\n",
      "   0 conv     32       3 x 3/ 1    416 x 416 x   3 ->  416 x 416 x  32 0.299 BF\n",
      "   1 conv     64       3 x 3/ 2    416 x 416 x  32 ->  208 x 208 x  64 1.595 BF\n",
      "   2 conv     32       1 x 1/ 1    208 x 208 x  64 ->  208 x 208 x  32 0.177 BF\n",
      "   3 conv     64       3 x 3/ 1    208 x 208 x  32 ->  208 x 208 x  64 1.595 BF\n",
      "   4 Shortcut Layer: 1,  wt = 0, wn = 0, outputs: 208 x 208 x  64 0.003 BF\n",
      "   5 conv    128       3 x 3/ 2    208 x 208 x  64 ->  104 x 104 x 128 1.595 BF\n",
      "   6 conv     64       1 x 1/ 1    104 x 104 x 128 ->  104 x 104 x  64 0.177 BF\n",
      "   7 conv    128       3 x 3/ 1    104 x 104 x  64 ->  104 x 104 x 128 1.595 BF\n",
      "   8 Shortcut Layer: 5,  wt = 0, wn = 0, outputs: 104 x 104 x 128 0.001 BF\n",
      "   9 conv     64       1 x 1/ 1    104 x 104 x 128 ->  104 x 104 x  64 0.177 BF\n",
      "  10 conv    128       3 x 3/ 1    104 x 104 x  64 ->  104 x 104 x 128 1.595 BF\n",
      "  11 Shortcut Layer: 8,  wt = 0, wn = 0, outputs: 104 x 104 x 128 0.001 BF\n",
      "  12 conv    256       3 x 3/ 2    104 x 104 x 128 ->   52 x  52 x 256 1.595 BF\n",
      "  13 conv    128       1 x 1/ 1     52 x  52 x 256 ->   52 x  52 x 128 0.177 BF\n",
      "  14 conv    256       3 x 3/ 1     52 x  52 x 128 ->   52 x  52 x 256 1.595 BF\n",
      "  15 Shortcut Layer: 12,  wt = 0, wn = 0, outputs:  52 x  52 x 256 0.001 BF\n",
      "  16 conv    128       1 x 1/ 1     52 x  52 x 256 ->   52 x  52 x 128 0.177 BF\n",
      "  17 conv    256       3 x 3/ 1     52 x  52 x 128 ->   52 x  52 x 256 1.595 BF\n",
      "  18 Shortcut Layer: 15,  wt = 0, wn = 0, outputs:  52 x  52 x 256 0.001 BF\n",
      "  19 conv    128       1 x 1/ 1     52 x  52 x 256 ->   52 x  52 x 128 0.177 BF\n",
      "  20 conv    256       3 x 3/ 1     52 x  52 x 128 ->   52 x  52 x 256 1.595 BF\n",
      "  21 Shortcut Layer: 18,  wt = 0, wn = 0, outputs:  52 x  52 x 256 0.001 BF\n",
      "  22 conv    128       1 x 1/ 1     52 x  52 x 256 ->   52 x  52 x 128 0.177 BF\n",
      "  23 conv    256       3 x 3/ 1     52 x  52 x 128 ->   52 x  52 x 256 1.595 BF\n",
      "  24 Shortcut Layer: 21,  wt = 0, wn = 0, outputs:  52 x  52 x 256 0.001 BF\n",
      "  25 conv    128       1 x 1/ 1     52 x  52 x 256 ->   52 x  52 x 128 0.177 BF\n",
      "  26 conv    256       3 x 3/ 1     52 x  52 x 128 ->   52 x  52 x 256 1.595 BF\n",
      "  27 Shortcut Layer: 24,  wt = 0, wn = 0, outputs:  52 x  52 x 256 0.001 BF\n",
      "  28 conv    128       1 x 1/ 1     52 x  52 x 256 ->   52 x  52 x 128 0.177 BF\n",
      "  29 conv    256       3 x 3/ 1     52 x  52 x 128 ->   52 x  52 x 256 1.595 BF\n",
      "  30 Shortcut Layer: 27,  wt = 0, wn = 0, outputs:  52 x  52 x 256 0.001 BF\n",
      "  31 conv    128       1 x 1/ 1     52 x  52 x 256 ->   52 x  52 x 128 0.177 BF\n",
      "  32 conv    256       3 x 3/ 1     52 x  52 x 128 ->   52 x  52 x 256 1.595 BF\n",
      "  33 Shortcut Layer: 30,  wt = 0, wn = 0, outputs:  52 x  52 x 256 0.001 BF\n",
      "  34 conv    128       1 x 1/ 1     52 x  52 x 256 ->   52 x  52 x 128 0.177 BF\n",
      "  35 conv    256       3 x 3/ 1     52 x  52 x 128 ->   52 x  52 x 256 1.595 BF\n",
      "  36 Shortcut Layer: 33,  wt = 0, wn = 0, outputs:  52 x  52 x 256 0.001 BF\n",
      "  37 conv    512       3 x 3/ 2     52 x  52 x 256 ->   26 x  26 x 512 1.595 BF\n",
      "  38 conv    256       1 x 1/ 1     26 x  26 x 512 ->   26 x  26 x 256 0.177 BF\n",
      "  39 conv    512       3 x 3/ 1     26 x  26 x 256 ->   26 x  26 x 512 1.595 BF\n",
      "  40 Shortcut Layer: 37,  wt = 0, wn = 0, outputs:  26 x  26 x 512 0.000 BF\n",
      "  41 conv    256       1 x 1/ 1     26 x  26 x 512 ->   26 x  26 x 256 0.177 BF\n",
      "  42 conv    512       3 x 3/ 1     26 x  26 x 256 ->   26 x  26 x 512 1.595 BF\n",
      "  43 Shortcut Layer: 40,  wt = 0, wn = 0, outputs:  26 x  26 x 512 0.000 BF\n",
      "  44 conv    256       1 x 1/ 1     26 x  26 x 512 ->   26 x  26 x 256 0.177 BF\n",
      "  45 conv    512       3 x 3/ 1     26 x  26 x 256 ->   26 x  26 x 512 1.595 BF\n",
      "  46 Shortcut Layer: 43,  wt = 0, wn = 0, outputs:  26 x  26 x 512 0.000 BF\n",
      "  47 conv    256       1 x 1/ 1     26 x  26 x 512 ->   26 x  26 x 256 0.177 BF\n",
      "  48 conv    512       3 x 3/ 1     26 x  26 x 256 ->   26 x  26 x 512 1.595 BF\n",
      "  49 Shortcut Layer: 46,  wt = 0, wn = 0, outputs:  26 x  26 x 512 0.000 BF\n",
      "  50 conv    256       1 x 1/ 1     26 x  26 x 512 ->   26 x  26 x 256 0.177 BF\n",
      "  51 conv    512       3 x 3/ 1     26 x  26 x 256 ->   26 x  26 x 512 1.595 BF\n",
      "  52 Shortcut Layer: 49,  wt = 0, wn = 0, outputs:  26 x  26 x 512 0.000 BF\n",
      "  53 conv    256       1 x 1/ 1     26 x  26 x 512 ->   26 x  26 x 256 0.177 BF\n",
      "  54 conv    512       3 x 3/ 1     26 x  26 x 256 ->   26 x  26 x 512 1.595 BF\n",
      "  55 Shortcut Layer: 52,  wt = 0, wn = 0, outputs:  26 x  26 x 512 0.000 BF\n",
      "  56 conv    256       1 x 1/ 1     26 x  26 x 512 ->   26 x  26 x 256 0.177 BF\n",
      "  57 conv    512       3 x 3/ 1     26 x  26 x 256 ->   26 x  26 x 512 1.595 BF\n",
      "  58 Shortcut Layer: 55,  wt = 0, wn = 0, outputs:  26 x  26 x 512 0.000 BF\n",
      "  59 conv    256       1 x 1/ 1     26 x  26 x 512 ->   26 x  26 x 256 0.177 BF\n",
      "  60 conv    512       3 x 3/ 1     26 x  26 x 256 ->   26 x  26 x 512 1.595 BF\n",
      "  61 Shortcut Layer: 58,  wt = 0, wn = 0, outputs:  26 x  26 x 512 0.000 BF\n",
      "  62 conv   1024       3 x 3/ 2     26 x  26 x 512 ->   13 x  13 x1024 1.595 BF\n",
      "  63 conv    512       1 x 1/ 1     13 x  13 x1024 ->   13 x  13 x 512 0.177 BF\n",
      "  64 conv   1024       3 x 3/ 1     13 x  13 x 512 ->   13 x  13 x1024 1.595 BF\n",
      "  65 Shortcut Layer: 62,  wt = 0, wn = 0, outputs:  13 x  13 x1024 0.000 BF\n",
      "  66 conv    512       1 x 1/ 1     13 x  13 x1024 ->   13 x  13 x 512 0.177 BF\n",
      "  67 conv   1024       3 x 3/ 1     13 x  13 x 512 ->   13 x  13 x1024 1.595 BF\n",
      "  68 Shortcut Layer: 65,  wt = 0, wn = 0, outputs:  13 x  13 x1024 0.000 BF\n",
      "  69 conv    512       1 x 1/ 1     13 x  13 x1024 ->   13 x  13 x 512 0.177 BF\n",
      "  70 conv   1024       3 x 3/ 1     13 x  13 x 512 ->   13 x  13 x1024 1.595 BF\n",
      "  71 Shortcut Layer: 68,  wt = 0, wn = 0, outputs:  13 x  13 x1024 0.000 BF\n",
      "  72 conv    512       1 x 1/ 1     13 x  13 x1024 ->   13 x  13 x 512 0.177 BF\n",
      "  73 conv   1024       3 x 3/ 1     13 x  13 x 512 ->   13 x  13 x1024 1.595 BF\n",
      "  74 Shortcut Layer: 71,  wt = 0, wn = 0, outputs:  13 x  13 x1024 0.000 BF\n",
      "  75 conv    512       1 x 1/ 1     13 x  13 x1024 ->   13 x  13 x 512 0.177 BF\n",
      "  76 conv   1024       3 x 3/ 1     13 x  13 x 512 ->   13 x  13 x1024 1.595 BF\n",
      "  77 conv    512       1 x 1/ 1     13 x  13 x1024 ->   13 x  13 x 512 0.177 BF\n",
      "  78 conv   1024       3 x 3/ 1     13 x  13 x 512 ->   13 x  13 x1024 1.595 BF\n",
      "  79 conv    512       1 x 1/ 1     13 x  13 x1024 ->   13 x  13 x 512 0.177 BF\n",
      "  80 conv   1024       3 x 3/ 1     13 x  13 x 512 ->   13 x  13 x1024 1.595 BF\n",
      "  81 conv    255       1 x 1/ 1     13 x  13 x1024 ->   13 x  13 x 255 0.088 BF\n",
      "  82 yolo\n",
      "[yolo] params: iou loss: mse (2), iou_norm: 0.75, obj_norm: 1.00, cls_norm: 1.00, delta_norm: 1.00, scale_x_y: 1.00\n",
      "  83 route  79 \t\t                           ->   13 x  13 x 512 \n",
      "  84 conv    256       1 x 1/ 1     13 x  13 x 512 ->   13 x  13 x 256 0.044 BF\n",
      "  85 upsample                 2x    13 x  13 x 256 ->   26 x  26 x 256\n",
      "  86 route  85 61 \t                           ->   26 x  26 x 768 \n",
      "  87 conv    256       1 x 1/ 1     26 x  26 x 768 ->   26 x  26 x 256 0.266 BF\n",
      "  88 conv    512       3 x 3/ 1     26 x  26 x 256 ->   26 x  26 x 512 1.595 BF\n",
      "  89 conv    256       1 x 1/ 1     26 x  26 x 512 ->   26 x  26 x 256 0.177 BF\n",
      "  90 conv    512       3 x 3/ 1     26 x  26 x 256 ->   26 x  26 x 512 1.595 BF\n",
      "  91 conv    256       1 x 1/ 1     26 x  26 x 512 ->   26 x  26 x 256 0.177 BF\n",
      "  92 conv    512       3 x 3/ 1     26 x  26 x 256 ->   26 x  26 x 512 1.595 BF\n",
      "  93 conv    255       1 x 1/ 1     26 x  26 x 512 ->   26 x  26 x 255 0.177 BF\n",
      "  94 yolo\n",
      "[yolo] params: iou loss: mse (2), iou_norm: 0.75, obj_norm: 1.00, cls_norm: 1.00, delta_norm: 1.00, scale_x_y: 1.00\n",
      "  95 route  91 \t\t                           ->   26 x  26 x 256 \n",
      "  96 conv    128       1 x 1/ 1     26 x  26 x 256 ->   26 x  26 x 128 0.044 BF\n",
      "  97 upsample                 2x    26 x  26 x 128 ->   52 x  52 x 128\n",
      "  98 route  97 36 \t                           ->   52 x  52 x 384 \n",
      "  99 conv    128       1 x 1/ 1     52 x  52 x 384 ->   52 x  52 x 128 0.266 BF\n",
      " 100 conv    256       3 x 3/ 1     52 x  52 x 128 ->   52 x  52 x 256 1.595 BF\n",
      " 101 conv    128       1 x 1/ 1     52 x  52 x 256 ->   52 x  52 x 128 0.177 BF\n",
      " 102 conv    256       3 x 3/ 1     52 x  52 x 128 ->   52 x  52 x 256 1.595 BF\n",
      " 103 conv    128       1 x 1/ 1     52 x  52 x 256 ->   52 x  52 x 128 0.177 BF\n",
      " 104 conv    256       3 x 3/ 1     52 x  52 x 128 ->   52 x  52 x 256 1.595 BF\n",
      " 105 conv    255       1 x 1/ 1     52 x  52 x 256 ->   52 x  52 x 255 0.353 BF\n",
      " 106 yolo\n",
      "[yolo] params: iou loss: mse (2), iou_norm: 0.75, obj_norm: 1.00, cls_norm: 1.00, delta_norm: 1.00, scale_x_y: 1.00\n",
      "Total BFLOPS 65.879 \n",
      "avg_outputs = 532444 \n",
      " Allocate additional workspace_size = 22.23 MB \n",
      "Loading weights from yolov3.weights...Done! Loaded 107 layers from weights-file \n",
      "CPU times: user 1min 19s, sys: 24.7 s, total: 1min 44s\n",
      "Wall time: 1h 44min 49s\n"
     ]
    }
   ],
   "source": [
    "%time !./darknet detector test cfg/coco.data cfg/yolov3.cfg yolov3.weights -ext_output -dont_show -out part1.json < ../ori_images.txt -thresh 0.1 > seg_output.txt"
   ]
  },
  {
   "cell_type": "code",
   "execution_count": 19,
   "metadata": {
    "id": "j5HhZs1-qlul"
   },
   "outputs": [],
   "source": [
    "!cp part1.json ../Masks/part1.json"
   ]
  },
  {
   "cell_type": "code",
   "execution_count": 20,
   "metadata": {
    "id": "v_QpZAqCquJw"
   },
   "outputs": [
    {
     "name": "stdout",
     "output_type": "stream",
     "text": [
      "/home/hieple/aicity/baseline\n"
     ]
    }
   ],
   "source": [
    "%cd .."
   ]
  },
  {
   "cell_type": "code",
   "execution_count": 21,
   "metadata": {
    "id": "ATUVh4jGqCy2"
   },
   "outputs": [
    {
     "name": "stdout",
     "output_type": "stream",
     "text": [
      "100%|█████████████████████████████████| 267256/267256 [00:35<00:00, 7569.70it/s]\n",
      "Finished in 00h:00m:52s\n",
      "CPU times: user 727 ms, sys: 186 ms, total: 912 ms\n",
      "Wall time: 56.3 s\n"
     ]
    }
   ],
   "source": [
    "%time !python Seg_masks.py"
   ]
  },
  {
   "cell_type": "code",
   "execution_count": 22,
   "metadata": {
    "id": "ErV_Fx8qqGNp"
   },
   "outputs": [
    {
     "name": "stdout",
     "output_type": "stream",
     "text": [
      "  0%|                                                   | 0/100 [00:00<?, ?it/s]6\n",
      "  1%|▍                                          | 1/100 [00:01<02:09,  1.31s/it]6\n",
      "  2%|▊                                          | 2/100 [00:02<01:37,  1.00it/s]10\n",
      "  3%|█▎                                         | 3/100 [00:02<01:22,  1.18it/s]17\n",
      "  4%|█▋                                         | 4/100 [00:03<01:21,  1.17it/s]12\n",
      "  5%|██▏                                        | 5/100 [00:04<01:10,  1.35it/s]6\n",
      "  6%|██▌                                        | 6/100 [00:05<01:17,  1.21it/s]24\n",
      "  7%|███                                        | 7/100 [00:05<01:13,  1.27it/s]17\n",
      "  8%|███▍                                       | 8/100 [00:06<01:01,  1.50it/s]3\n",
      "  9%|███▊                                       | 9/100 [00:07<01:24,  1.08it/s]17\n",
      " 10%|████▏                                     | 10/100 [00:08<01:12,  1.25it/s]4\n",
      " 11%|████▌                                     | 11/100 [00:10<01:45,  1.19s/it]10\n",
      " 12%|█████                                     | 12/100 [00:11<01:30,  1.03s/it]9\n",
      " 13%|█████▍                                    | 13/100 [00:11<01:21,  1.06it/s]10\n",
      " 14%|█████▉                                    | 14/100 [00:13<01:46,  1.24s/it]15\n",
      " 15%|██████▎                                   | 15/100 [00:14<01:44,  1.23s/it]22\n",
      " 16%|██████▋                                   | 16/100 [00:15<01:21,  1.03it/s]10\n",
      " 17%|███████▏                                  | 17/100 [00:15<01:14,  1.12it/s]11\n",
      " 18%|███████▌                                  | 18/100 [00:16<01:00,  1.36it/s]6\n",
      " 19%|███████▉                                  | 19/100 [00:17<01:19,  1.02it/s]20\n",
      " 20%|████████▍                                 | 20/100 [00:18<01:06,  1.20it/s]14\n",
      " 21%|████████▊                                 | 21/100 [00:18<00:55,  1.41it/s]15\n",
      " 22%|█████████▏                                | 22/100 [00:20<01:08,  1.13it/s]7\n",
      " 23%|█████████▋                                | 23/100 [00:20<01:03,  1.22it/s]8\n",
      " 24%|██████████                                | 24/100 [00:21<00:53,  1.42it/s]25\n",
      " 25%|██████████▌                               | 25/100 [00:21<00:54,  1.37it/s]12\n",
      " 26%|██████████▉                               | 26/100 [00:22<00:53,  1.38it/s]15\n",
      " 27%|███████████▎                              | 27/100 [00:23<00:50,  1.44it/s]4\n",
      " 28%|███████████▊                              | 28/100 [00:24<00:50,  1.43it/s]9\n",
      " 29%|████████████▏                             | 29/100 [00:26<01:35,  1.34s/it]10\n",
      " 30%|████████████▌                             | 30/100 [00:27<01:20,  1.15s/it]8\n",
      " 31%|█████████████                             | 31/100 [00:28<01:07,  1.03it/s]9\n",
      " 32%|█████████████▍                            | 32/100 [00:28<00:57,  1.18it/s]16\n",
      " 33%|█████████████▊                            | 33/100 [00:29<00:56,  1.18it/s]19\n",
      " 34%|██████████████▎                           | 34/100 [00:30<01:01,  1.08it/s]8\n",
      " 35%|██████████████▋                           | 35/100 [00:32<01:11,  1.11s/it]15\n",
      " 36%|███████████████                           | 36/100 [00:32<00:58,  1.10it/s]14\n",
      " 37%|███████████████▌                          | 37/100 [00:33<00:47,  1.31it/s]3\n",
      " 38%|███████████████▉                          | 38/100 [00:34<00:57,  1.08it/s]22\n",
      " 39%|████████████████▍                         | 39/100 [00:35<00:51,  1.18it/s]3\n",
      " 40%|████████████████▊                         | 40/100 [00:35<00:51,  1.15it/s]8\n",
      " 41%|█████████████████▏                        | 41/100 [00:36<00:51,  1.15it/s]12\n",
      " 42%|█████████████████▋                        | 42/100 [00:37<00:53,  1.08it/s]44\n",
      " 43%|██████████████████                        | 43/100 [00:38<00:43,  1.31it/s]23\n",
      " 44%|██████████████████▍                       | 44/100 [00:38<00:38,  1.44it/s]11\n",
      " 45%|██████████████████▉                       | 45/100 [00:39<00:39,  1.38it/s]8\n",
      " 46%|███████████████████▎                      | 46/100 [00:40<00:35,  1.53it/s]19\n",
      " 47%|███████████████████▋                      | 47/100 [00:40<00:34,  1.52it/s]18\n",
      " 48%|████████████████████▏                     | 48/100 [00:41<00:31,  1.66it/s]14\n",
      " 49%|████████████████████▌                     | 49/100 [00:41<00:31,  1.64it/s]11\n",
      " 50%|█████████████████████                     | 50/100 [00:42<00:35,  1.43it/s]4\n",
      " 51%|█████████████████████▍                    | 51/100 [00:43<00:35,  1.39it/s]5\n",
      " 52%|█████████████████████▊                    | 52/100 [00:44<00:36,  1.31it/s]9\n",
      " 53%|██████████████████████▎                   | 53/100 [00:45<00:43,  1.08it/s]3\n",
      " 54%|██████████████████████▋                   | 54/100 [00:46<00:39,  1.17it/s]16\n",
      " 55%|███████████████████████                   | 55/100 [00:47<00:36,  1.22it/s]4\n",
      " 56%|███████████████████████▌                  | 56/100 [00:48<00:39,  1.12it/s]12\n",
      " 57%|███████████████████████▉                  | 57/100 [00:48<00:33,  1.27it/s]5\n",
      " 58%|████████████████████████▎                 | 58/100 [00:49<00:34,  1.23it/s]13\n",
      " 59%|████████████████████████▊                 | 59/100 [00:50<00:28,  1.43it/s]25\n",
      " 60%|█████████████████████████▏                | 60/100 [00:50<00:28,  1.40it/s]10\n",
      " 61%|█████████████████████████▌                | 61/100 [00:51<00:26,  1.46it/s]27\n",
      " 62%|██████████████████████████                | 62/100 [00:51<00:22,  1.71it/s]9\n",
      " 63%|██████████████████████████▍               | 63/100 [00:52<00:20,  1.83it/s]8\n",
      " 64%|██████████████████████████▉               | 64/100 [00:52<00:20,  1.75it/s]33\n",
      " 65%|███████████████████████████▎              | 65/100 [00:53<00:24,  1.44it/s]4\n",
      " 66%|███████████████████████████▋              | 66/100 [00:54<00:21,  1.56it/s]26\n",
      " 67%|████████████████████████████▏             | 67/100 [00:55<00:23,  1.42it/s]14\n",
      " 68%|████████████████████████████▌             | 68/100 [00:55<00:20,  1.58it/s]22\n",
      " 69%|████████████████████████████▉             | 69/100 [00:56<00:20,  1.48it/s]7\n",
      " 70%|█████████████████████████████▍            | 70/100 [00:56<00:19,  1.55it/s]11\n",
      " 71%|█████████████████████████████▊            | 71/100 [00:57<00:20,  1.44it/s]3\n",
      " 72%|██████████████████████████████▏           | 72/100 [00:58<00:20,  1.37it/s]14\n",
      " 73%|██████████████████████████████▋           | 73/100 [00:59<00:18,  1.43it/s]15\n",
      " 74%|███████████████████████████████           | 74/100 [01:00<00:21,  1.21it/s]12\n",
      " 75%|███████████████████████████████▌          | 75/100 [01:01<00:19,  1.26it/s]10\n",
      " 76%|███████████████████████████████▉          | 76/100 [01:01<00:17,  1.34it/s]10\n",
      " 77%|████████████████████████████████▎         | 77/100 [01:02<00:15,  1.49it/s]3\n",
      " 78%|████████████████████████████████▊         | 78/100 [01:03<00:17,  1.23it/s]3\n",
      " 79%|█████████████████████████████████▏        | 79/100 [01:04<00:22,  1.05s/it]8\n",
      " 80%|█████████████████████████████████▌        | 80/100 [01:05<00:17,  1.13it/s]12\n",
      " 81%|██████████████████████████████████        | 81/100 [01:06<00:17,  1.11it/s]3\n",
      " 82%|██████████████████████████████████▍       | 82/100 [01:07<00:19,  1.08s/it]8\n",
      " 83%|██████████████████████████████████▊       | 83/100 [01:08<00:16,  1.01it/s]11\n",
      " 84%|███████████████████████████████████▎      | 84/100 [01:09<00:14,  1.13it/s]15\n",
      " 85%|███████████████████████████████████▋      | 85/100 [01:09<00:10,  1.39it/s]5\n",
      " 86%|████████████████████████████████████      | 86/100 [01:10<00:10,  1.39it/s]15\n",
      " 87%|████████████████████████████████████▌     | 87/100 [01:11<00:09,  1.43it/s]6\n",
      " 88%|████████████████████████████████████▉     | 88/100 [01:11<00:07,  1.59it/s]19\n",
      " 89%|█████████████████████████████████████▍    | 89/100 [01:12<00:07,  1.54it/s]18\n",
      " 90%|█████████████████████████████████████▊    | 90/100 [01:13<00:07,  1.37it/s]7\n",
      " 91%|██████████████████████████████████████▏   | 91/100 [01:14<00:07,  1.19it/s]10\n",
      " 92%|██████████████████████████████████████▋   | 92/100 [01:14<00:06,  1.31it/s]5\n",
      " 93%|███████████████████████████████████████   | 93/100 [01:16<00:06,  1.08it/s]14\n",
      " 94%|███████████████████████████████████████▍  | 94/100 [01:16<00:04,  1.44it/s]10\n",
      " 95%|███████████████████████████████████████▉  | 95/100 [01:16<00:03,  1.63it/s]7\n",
      " 96%|████████████████████████████████████████▎ | 96/100 [01:18<00:03,  1.19it/s]10\n",
      " 97%|████████████████████████████████████████▋ | 97/100 [01:19<00:02,  1.09it/s]5\n",
      " 98%|█████████████████████████████████████████▏| 98/100 [01:19<00:01,  1.29it/s]4\n",
      " 99%|█████████████████████████████████████████▌| 99/100 [01:20<00:00,  1.47it/s]6\n",
      "100%|█████████████████████████████████████████| 100/100 [01:20<00:00,  1.24it/s]\n",
      "Finished in 00h:01m:20s\n",
      "CPU times: user 949 ms, sys: 417 ms, total: 1.37 s\n",
      "Wall time: 1min 21s\n"
     ]
    }
   ],
   "source": [
    "%time !python Masks/get_ignore_area.py"
   ]
  },
  {
   "cell_type": "markdown",
   "metadata": {
    "id": "9hMKAgLyqWs2"
   },
   "source": [
    "## Anomaly Detection"
   ]
  },
  {
   "cell_type": "code",
   "execution_count": 32,
   "metadata": {
    "id": "fhaOmsV0qGYL"
   },
   "outputs": [
    {
     "name": "stdout",
     "output_type": "stream",
     "text": [
      "/home/hieple/.pyenv/versions/ai/lib/python3.8/site-packages/numpy/core/_asarray.py:136: VisibleDeprecationWarning: Creating an ndarray from ragged nested sequences (which is a list-or-tuple of lists-or-tuples-or ndarrays with different lengths or shapes) is deprecated. If you meant to do this, you must specify 'dtype=object' when creating the ndarray\n",
      "  return array(a, dtype, copy=False, order=order, subok=True)\n",
      "/home/hieple/.pyenv/versions/ai/lib/python3.8/site-packages/numpy/core/_asarray.py:136: VisibleDeprecationWarning: Creating an ndarray from ragged nested sequences (which is a list-or-tuple of lists-or-tuples-or ndarrays with different lengths or shapes) is deprecated. If you meant to do this, you must specify 'dtype=object' when creating the ndarray\n",
      "  return array(a, dtype, copy=False, order=order, subok=True)\n",
      "/home/hieple/aicity/baseline/vid_utils.py:267: VisibleDeprecationWarning: Creating an ndarray from ragged nested sequences (which is a list-or-tuple of lists-or-tuples-or ndarrays with different lengths or shapes) is deprecated. If you meant to do this, you must specify 'dtype=object' when creating the ndarray\n",
      "  t = np.array(all_cords[cam_change[i] - 1])\n",
      "CPU times: user 3.55 s, sys: 1.03 s, total: 4.58 s\n",
      "Wall time: 4min 40s\n"
     ]
    }
   ],
   "source": [
    "%time !python Detector.py"
   ]
  }
 ],
 "metadata": {
  "accelerator": "GPU",
  "colab": {
   "collapsed_sections": [],
   "name": "Baseline",
   "provenance": []
  },
  "kernelspec": {
   "display_name": "Python 3 (ipykernel)",
   "language": "python",
   "name": "python3"
  },
  "language_info": {
   "codemirror_mode": {
    "name": "ipython",
    "version": 3
   },
   "file_extension": ".py",
   "mimetype": "text/x-python",
   "name": "python",
   "nbconvert_exporter": "python",
   "pygments_lexer": "ipython3",
   "version": "3.8.12"
  }
 },
 "nbformat": 4,
 "nbformat_minor": 4
}
